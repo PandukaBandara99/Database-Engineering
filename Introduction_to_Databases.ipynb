{
  "nbformat": 4,
  "nbformat_minor": 0,
  "metadata": {
    "colab": {
      "provenance": [],
      "toc_visible": true,
      "include_colab_link": true
    },
    "kernelspec": {
      "name": "python3",
      "display_name": "Python 3"
    },
    "language_info": {
      "name": "python"
    }
  },
  "cells": [
    {
      "cell_type": "markdown",
      "metadata": {
        "id": "view-in-github",
        "colab_type": "text"
      },
      "source": [
        "<a href=\"https://colab.research.google.com/github/PandukaBandara99/Database-Engineering/blob/main/Introduction_to_Databases.ipynb\" target=\"_parent\"><img src=\"https://colab.research.google.com/assets/colab-badge.svg\" alt=\"Open In Colab\"/></a>"
      ]
    },
    {
      "cell_type": "markdown",
      "source": [
        "Mahela Panduka Bandara ; <br> UG @ Dpt. of Electronic & Electrical Engineering ;<br> University of Peradeniya ;<br> 2023/05 <br><br> Email : e19039@end.pdn.ac.lk <br> LinkedIN : https://www.linkedin.com/in/pandukabandara/"
      ],
      "metadata": {
        "id": "lKXVALiHeBdg"
      }
    },
    {
      "cell_type": "markdown",
      "source": [
        "References : \n",
        "1. https://www.coursera.org/professional-certificates/meta-database-engineer"
      ],
      "metadata": {
        "id": "zoB4tumseC-a"
      }
    },
    {
      "cell_type": "markdown",
      "source": [
        "# 1.0 Introduction to Databases"
      ],
      "metadata": {
        "id": "ocsnAcVteLg2"
      }
    },
    {
      "cell_type": "markdown",
      "source": [
        "## 1.1 Databases"
      ],
      "metadata": {
        "id": "EiyiemnMfBh-"
      }
    },
    {
      "cell_type": "markdown",
      "source": [
        "Databases store and organize large amounts of information, using a variety of structures and models such as relational, NoSQL, object-oriented, hierarchical, and network.\n",
        "Types of databases:\n",
        "1. **Relational databases:** These databases store data in tables with rows and columns. They use a structured query language (SQL) to manage and manipulate data. Examples of relational databases include MySQL, Oracle, and PostgreSQL.\n",
        "\n",
        "2. **NoSQL databases:** These databases use a non-relational data model, which means they don't use tables, rows, and columns. Instead, they use a variety of data models, such as document, key-value, and graph. Examples of NoSQL databases include MongoDB, Cassandra, and Redis.\n",
        "\n",
        "3. **Object-oriented databases:** These databases are designed to work with object-oriented programming languages, such as Java and C++. They store data in objects, which are similar to the objects used in programming. Examples of object-oriented databases include db4o and ObjectDB.\n",
        "\n",
        "4. **Hierarchical databases:** These databases organize data in a tree-like structure, with each record having one parent and possibly many children. They're often used for storing information about organizational structures or file systems. Examples of hierarchical databases include IBM's Information Management System (IMS) and the Windows Registry.\n",
        "\n",
        "5. **Network databases:** These databases are similar to hierarchical databases, but they allow each record to have multiple parents and children, forming a network of relationships. They're often used for modeling complex relationships between entities. Examples of network databases include Integrated Data Store (IDS) and CA-IDMS."
      ],
      "metadata": {
        "id": "PPDHw_nFfDui"
      }
    },
    {
      "cell_type": "markdown",
      "source": [
        "## 1.2 Introduction To SQL"
      ],
      "metadata": {
        "id": "Pn0qYp-_fdDX"
      }
    },
    {
      "cell_type": "markdown",
      "source": [
        "**Structured Query Language (SQL)** is a programming language used to manage and manipulate relational databases."
      ],
      "metadata": {
        "id": "u_yuD6xif76u"
      }
    },
    {
      "cell_type": "markdown",
      "source": [
        "### 1.2.1  SQL Commands"
      ],
      "metadata": {
        "id": "wO_f4Fn3f-R1"
      }
    },
    {
      "cell_type": "markdown",
      "source": [
        "In SQL (Structured Query Language), there are four main types of commands:\n",
        "\n",
        "1. **Data Definition Language (DDL):** These commands are used to define the structure of the database, including creating, altering, and deleting tables and other objects. Examples include CREATE, ALTER, and DROP.\n",
        "\n",
        "2. **Data Manipulation Language (DML):** These commands are used to manipulate data within the database, including inserting, updating, and deleting data. Examples include INSERT, UPDATE, and DELETE.\n",
        "\n",
        "3. **Data Control Language (DCL):** These commands are used to control access to the database, including granting and revoking privileges to users and roles. Examples include GRANT and REVOKE.\n",
        "\n",
        "4. **Transaction Control Language (TCL):** These commands are used to manage transactions, which are sets of operations that must be performed together as a single, atomic unit. Examples include COMMIT and ROLLBACK."
      ],
      "metadata": {
        "id": "A5bO2lZ0gVzw"
      }
    },
    {
      "cell_type": "markdown",
      "source": [
        "### 1.2.2 Tables in SQL\n"
      ],
      "metadata": {
        "id": "PZhQVS0xgkAK"
      }
    },
    {
      "cell_type": "markdown",
      "source": [
        "In a relational database, data is organized into tables. A table consists of rows and columns, with each row representing a single record and each column representing a field within that record. The structure of a table is defined by its columns, which specify the name, data type, and other characteristics of each field."
      ],
      "metadata": {
        "id": "qEt9u2Wkg7V5"
      }
    },
    {
      "cell_type": "markdown",
      "source": [
        "####  Common data types in SQL "
      ],
      "metadata": {
        "id": "bDxjlO9ii6J_"
      }
    },
    {
      "cell_type": "markdown",
      "source": [
        "\n",
        "\n",
        "1. **Numeric data types :** such as INT, DECIMAL, and FLOAT, for storing numerical data.\n",
        "\n",
        "2. **String data types :** such as VARCHAR and CHAR, for storing character strings.\n",
        "\n",
        "3. **Date and time data types :** such as DATE, TIME, and DATETIME, for storing date and time values.\n",
        "\n",
        "4. **Boolean data type :** such as BOOLEAN or BIT, for storing true/false values.\n",
        "\n",
        "5. **Binary data types :** such as BLOB and VARBINARY, for storing binary data.\n",
        "\n",
        "6. **XML data type:** for storing XML documents."
      ],
      "metadata": {
        "id": "DjbEPuBvg8r2"
      }
    },
    {
      "cell_type": "markdown",
      "source": [
        "####  Primary Key and Foreign Key"
      ],
      "metadata": {
        "id": "t-lPTcBEhqK5"
      }
    },
    {
      "cell_type": "markdown",
      "source": [
        "\n",
        "\n",
        "**Primary Key:**\n",
        "A primary key is a column or set of columns in a table that uniquely identifies each row of data. It is used to ensure data integrity and establish relationships with other tables in the database.\n",
        "\n",
        "> Example :- Table : Students\n",
        "\n",
        "  | StudentID | Name    | Age | Gender | Major   |\n",
        "  | --------- | ------- | --- | ------ | ------- |\n",
        "  | 1         | Alice   | 21  | Female | Biology |\n",
        "  | 2         | Bob     | 22  | Male   | History |\n",
        "  | 3         | Charlie | 20  | Male   | English |\n",
        "\n",
        "In this example, the \"StudentID\" column serves as the primary key, ensuring that each row has a unique ID number.\n",
        "\n",
        "**Foreign Key:**\n",
        "A foreign key is a column or set of columns in a table that references the primary key of another table. This establishes a relationship between the two tables, allowing data to be linked between them.\n",
        "\n",
        "> Example :- Table : Enrollments\n",
        "\n",
        "  | EnrollmentID | StudentID | Course   |\n",
        "  | ------------ | --------- | -------- |\n",
        "  | 1            | 1         | Biology 101 |\n",
        "  | 2            | 2         | History 101 |\n",
        "  | 3            | 3         | English 101 |\n",
        "  | 4            | 1         | Chemistry 101 |\n",
        "\n",
        "In this example, the \"StudentID\" column in the \"Enrollments\" table serves as a foreign key, referencing the primary key in the \"Students\" table. This allows the \"Enrollments\" table to link each enrollment with the corresponding student from the \"Students\" table.\n",
        "\n"
      ],
      "metadata": {
        "id": "FceduQdmi-jA"
      }
    },
    {
      "cell_type": "markdown",
      "source": [
        "### 1.2.3 Integrity Constraints in SQL"
      ],
      "metadata": {
        "id": "tNokt5UAjg38"
      }
    },
    {
      "cell_type": "markdown",
      "source": [
        "1. **Key Constraints:**\n",
        "Key constraints are used to ensure that each row in a table can be uniquely identified by a specific column or set of columns, known as the key. In SQL, there are two types of key constraints:\n",
        "\n",
        "  > - **Primary Key Constraint:** This is a key constraint that specifies the.primary key of a table, which must be unique for each row and cannot be NULL.\n",
        "  > - **Unique Key Constraint:** This is a key constraint that specifies a unique key for a table, which must be unique for each row but can be NULL.\n",
        "\n",
        "2. **Domain Constraints:**\n",
        "Domain constraints are used to ensure that the data in a specific column of a table adheres to a specific data type or format. In SQL, there are several types of domain constraints, including:\n",
        "\n",
        "  >  - **NOT NULL Constraint:** Ensures that a column cannot have a NULL value.\n",
        "  >  - **CHECK Constraint:** Ensures that the values in a column meet a specified condition.\n",
        "  >  - **DEFAULT Constraint:** Sets a default value for a column if no value is provided.\n",
        "\n",
        "3. **Referential Integrity Constraints:**\n",
        "Referential integrity constraints are used to maintain the consistency and accuracy of data between related tables. In SQL, the most common referential integrity constraint is the **foreign key constraint**, which ensures that a column in one table references a primary key in another table. If a value in the foreign key column does not match a value in the primary key column, the constraint will prevent the operation from being executed or take appropriate actions, such as cascading updates or deletes.\n"
      ],
      "metadata": {
        "id": "90aXP-qlj-nh"
      }
    },
    {
      "cell_type": "markdown",
      "source": [
        "### 1.2.4 Constraints in mySQL"
      ],
      "metadata": {
        "id": "sfs5OcGdkUX4"
      }
    },
    {
      "cell_type": "markdown",
      "source": [
        "\n",
        "| Constraint | Description | Syntax |\n",
        "| --- | --- | --- |\n",
        "| PRIMARY KEY | A column or combination of columns that uniquely identifies each row in a table. The values in the column(s) must be unique and cannot be NULL. | `PRIMARY KEY (column_name)` |\n",
        "| FOREIGN KEY | A column or combination of columns that refers to the primary key of another table. It ensures referential integrity between tables by requiring that the values in the foreign key column(s) must exist in the referenced table's primary key column(s). | `FOREIGN KEY (column_name) REFERENCES table_name(primary_key_column_name)` |\n",
        "| UNIQUE | A constraint that ensures that the values in a column or combination of columns are unique, but allows NULL values. | `UNIQUE (column_name)` |\n",
        "| NOT NULL | A constraint that ensures that a column cannot have NULL values. | `column_name data_type NOT NULL` |\n",
        "| CHECK | A constraint that specifies a condition that must be true for the row to be inserted or updated. | `CHECK (condition)` |\n",
        "| DEFAULT | A constraint that sets a default value for a column if no value is specified. | `column_name data_type DEFAULT default_value` |\n",
        "| INDEX | A data structure that improves the speed of data retrieval operations on a table by allowing quick access to specific rows. | `INDEX (column_name)` or `INDEX index_name (column_name)` |\n",
        "| FULLTEXT | An index type that enables full-text searches for words and phrases in a text column. | `FULLTEXT (column_name)` |\n",
        "| UNIQUE INDEX | A combination of the unique and index constraints, it ensures that the values in a column or combination of columns are unique and creates an index for faster data retrieval. | `UNIQUE INDEX (column_name)` or `UNIQUE INDEX index_name (column_name)` |\n",
        "| PRIMARY KEY INDEX | A combination of the primary key and index constraints, it creates an index for faster data retrieval and ensures that the values in a column or combination of columns are unique and cannot be NULL. | `PRIMARY KEY INDEX (column_name)` or `PRIMARY KEY INDEX index_name (column_name)` |\n",
        "| FOREIGN KEY INDEX | A combination of the foreign key and index constraints, it creates an index for faster data retrieval and ensures referential integrity between tables by requiring that the values in the foreign key column(s) must exist in the referenced table's primary key column(s). | `FOREIGN KEY INDEX (column_name) REFERENCES table_name(primary_key_column_name)` or `FOREIGN KEY INDEX index_name (column_name) REFERENCES table_name(primary_key_column_name)` |\n",
        "\n",
        "\n",
        "\n",
        "Examples :\n",
        "\n",
        "```sql\n",
        "CREATE TABLE customers (\n",
        "   customer_id INT NOT NULL PRIMARY KEY,\n",
        "   first_name VARCHAR(50) NOT NULL,\n",
        "   last_name VARCHAR(50) NOT NULL,\n",
        "   email VARCHAR(50) UNIQUE,\n",
        "   address VARCHAR(100),\n",
        "   phone_number VARCHAR(20),\n",
        "   age INT CHECK (age >= 18),\n",
        "   registration_date DATE DEFAULT CURDATE(),\n",
        "   INDEX (last_name)\n",
        ");\n",
        "\n",
        "CREATE TABLE orders (\n",
        "   order_id INT NOT NULL PRIMARY KEY,\n",
        "   customer_id INT NOT NULL,\n",
        "   order_date DATE NOT NULL,\n",
        "   total_price DECIMAL(10,2) NOT NULL,\n",
        "   FOREIGN KEY (customer_id) REFERENCES customers(customer_id),\n",
        "   INDEX (order_date)\n",
        ");\n",
        "```\n",
        "\n"
      ],
      "metadata": {
        "id": "OJzlD5eNkYiy"
      }
    },
    {
      "cell_type": "markdown",
      "source": [
        "When using multiple constraints in SQL:\n",
        "\n",
        "1. **Choose the right constraint for the job:** There are several types of constraints available in SQL, such as primary key, unique, foreign key, and check constraints. Each has a specific purpose and should be used appropriately. For example, use a primary key constraint to ensure a unique identifier for a table, use a foreign key constraint to enforce referential integrity between tables, and use a check constraint to validate data based on a specific condition.\n",
        "\n",
        "2. **Keep constraints simple:** While it is possible to combine multiple constraints in SQL, it's important to keep them as simple as possible to ensure that they are easy to understand and maintain. This means avoiding overly complex constraints that are difficult to read or modify, and sticking to simple combinations of basic constraints, such as NOT NULL and UNIQUE.\n",
        "\n",
        "3. **Consider performance implications:** When using multiple constraints in SQL, it's important to consider the potential performance implications. Constraints can slow down queries and other operations, particularly when working with large datasets. It's important to test constraints thoroughly to ensure that they are not having a negative impact on performance.\n",
        "\n",
        "4. **Use appropriate indexing:** To help improve performance when using multiple constraints in SQL, it's important to use appropriate indexing. Indexes can help to speed up queries and other operations by allowing the database to quickly locate specific data. Consider creating indexes on columns that are frequently used in constraints to improve query performance.\n",
        "\n",
        "5. **Test thoroughly:** Finally, when using multiple constraints in SQL, it's important to test them thoroughly to ensure that they are working as intended. This means testing constraints in a variety of scenarios, such as inserting, updating, and deleting data, to ensure that they are enforcing data integrity correctly. Regular testing can help to identify issues and ensure that constraints remain effective and efficient over time.\n"
      ],
      "metadata": {
        "id": "ediQIA0Gku4A"
      }
    },
    {
      "cell_type": "markdown",
      "source": [
        "## 1.3 SQL Data Types"
      ],
      "metadata": {
        "id": "yg-FGtRwbMTi"
      }
    },
    {
      "cell_type": "markdown",
      "source": [
        "### 1.3.1 Numerical Data"
      ],
      "metadata": {
        "id": "MUJh2umVbSjP"
      }
    },
    {
      "cell_type": "markdown",
      "source": [
        "\n",
        "\n",
        "| Data Type | Description | Range of Values | Storage Size | Applicable Keywords |\n",
        "| --- | --- | --- | --- | --- |\n",
        "| TINYINT | A very small integer | -128 to 127 (signed) or 0 to 255 (unsigned) | 1 byte | TINYINT, TINYINT(n), BOOLEAN |\n",
        "| SMALLINT | A small integer | -32,768 to 32,767 (signed) or 0 to 65,535 (unsigned) | 2 bytes | SMALLINT, SMALLINT(n), INT2 |\n",
        "| MEDIUMINT | A medium-sized integer | -8,388,608 to 8,388,607 (signed) or 0 to 16,777,215 (unsigned) | 3 bytes | MEDIUMINT, MEDIUMINT(n) |\n",
        "| INT or INTEGER | A standard integer | -2,147,483,648 to 2,147,483,647 (signed) or 0 to 4,294,967,295 (unsigned) | 4 bytes | INT, INTEGER, INT4 |\n",
        "| BIGINT | A large integer | -9,223,372,036,854,775,808 to 9,223,372,036,854,775,807 (signed) or 0 to 18,446,744,073,709,551,615 (unsigned) | 8 bytes | BIGINT, BIGINT(n), INT8 |\n",
        "| FLOAT | A single-precision floating-point number | -3.40282347E+38 to -1.17549435E-38, 0, and 1.17549435E-38 to 3.40282347E+38 | 4 bytes | FLOAT(p) |\n",
        "| DOUBLE or REAL | A double-precision floating-point number | -1.7976931348623157E+308 to -2.2250738585072014E-308, 0, and 2.2250738585072014E-308 to 1.7976931348623157E+308 | 8 bytes | DOUBLE, DOUBLE PRECISION, REAL(p) |\n",
        "| DECIMAL or NUMERIC | A fixed-point decimal number | -10^38 +1 to 10^38 -1 | Varies (up to 65 bytes) | DECIMAL(p,s), NUMERIC(p,s) |\n",
        "\n",
        "Note that the `(n)` and `(p,s)` in the Applicable Keywords column indicate that can specify a custom length or precision and scale, respectively, for the data type. The actual range of values and storage size may depend on the specific length or precision and scale you specify."
      ],
      "metadata": {
        "id": "zwN2yG_YiysS"
      }
    },
    {
      "cell_type": "markdown",
      "source": [
        "### 1.3.2 String Data types"
      ],
      "metadata": {
        "id": "zaGcfkGhjIsi"
      }
    },
    {
      "cell_type": "markdown",
      "source": [
        "\n",
        "\n",
        "| Data Type | Description | Maximum Length | Applicable Keywords |\n",
        "| --- | --- | --- | --- |\n",
        "| CHAR | A fixed-length character string | Up to 255 characters | CHAR(n) |\n",
        "| VARCHAR | A variable-length character string | Up to 65,535 characters | VARCHAR(n) |\n",
        "| TINYTEXT | A small variable-length text string | Up to 255 characters | TINYTEXT |\n",
        "| TEXT | A medium-sized variable-length text string | Up to 65,535 characters | TEXT |\n",
        "| MEDIUMTEXT | A large variable-length text string | Up to 16,777,215 characters | MEDIUMTEXT |\n",
        "| LONGTEXT | A very large variable-length text string | Up to 4,294,967,295 characters | LONGTEXT |\n",
        "| BINARY | A fixed-length binary string | Up to 255 bytes | BINARY(n) |\n",
        "| VARBINARY | A variable-length binary string | Up to 65,535 bytes | VARBINARY(n) |\n",
        "| TINYBLOB | A small variable-length binary string | Up to 255 bytes | TINYBLOB |\n",
        "| BLOB | A medium-sized variable-length binary string | Up to 65,535 bytes | BLOB |\n",
        "| MEDIUMBLOB | A large variable-length binary string | Up to 16,777,215 bytes | MEDIUMBLOB |\n",
        "| LONGBLOB | A very large variable-length binary string | Up to 4,294,967,295 bytes | LONGBLOB |\n",
        "\n",
        "Note that the `(n)` in the Applicable Keywords column indicate that  can specify a custom length for the data type. The actual maximum length may depend on the specific length you specify."
      ],
      "metadata": {
        "id": "EiSGDZPEjLiJ"
      }
    },
    {
      "cell_type": "markdown",
      "source": [
        "### 1.3.3. Special Data Types"
      ],
      "metadata": {
        "id": "adwxVIvOYHK4"
      }
    },
    {
      "cell_type": "markdown",
      "source": [
        "\n",
        "\n",
        "| Data Type | Description |\n",
        "| --------- | ----------- |\n",
        "| DATE | Stores a date in the format YYYY-MM-DD |\n",
        "| TIME | Stores a time in the format HH:MM:SS |\n",
        "| DATETIME | Stores both a date and a time in the format YYYY-MM-DD HH:MM:SS |\n",
        "| TIMESTAMP | Stores both a date and a time in the format YYYY-MM-DD HH:MM:SS, with a range from 1970-01-01 00:00:01 to 2038-01-19 03:14:07 (in UTC) |\n",
        "| YEAR | Stores a year in two-digit or four-digit format (e.g. 1998 or 98) |\n",
        "| CHAR | Stores a fixed-length string of up to 255 characters |\n",
        "| VARCHAR | Stores a variable-length string of up to 65,535 characters |\n",
        "| TEXT | Stores a variable-length string of up to 65,535 characters (longer than VARCHAR) |\n",
        "| BLOB | Stores binary data of up to 65,535 bytes |\n",
        "| ENUM | Stores a list of up to 65,535 values, each of which must be a string or a numeric value |\n",
        "| SET | Stores a set of up to 64 different values, each of which must be a string or a numeric value |\n"
      ],
      "metadata": {
        "id": "njnJG8APYNB6"
      }
    },
    {
      "cell_type": "markdown",
      "source": [
        "## 1.4 Syntax"
      ],
      "metadata": {
        "id": "sKm7rJs2cR_-"
      }
    },
    {
      "cell_type": "markdown",
      "source": [
        "### 1.4.1 Creating a Database"
      ],
      "metadata": {
        "id": "oCbL8bN5cX_l"
      }
    },
    {
      "cell_type": "markdown",
      "source": [
        "To create a database in MySQL :\n",
        "\n",
        ">  ```sql\n",
        ">  CREATE DATABASE database_name;\n",
        ">  ```\n",
        "\n",
        "\n",
        "It's important to note that need to have the proper permissions to create a database. Use the `USE` command to start working with it:\n",
        "\n",
        ">  ```sql\n",
        ">  USE mydatabase;\n",
        ">  ```\n",
        "\n",
        "This command tells MySQL to use the \"mydatabase\" database for any subsequent commands until you switch to another database or exit MySQL."
      ],
      "metadata": {
        "id": "ETUfl-t9ce1f"
      }
    },
    {
      "cell_type": "markdown",
      "source": [
        "### 1.4.2 Create Tables "
      ],
      "metadata": {
        "id": "lt95RKqpdQti"
      }
    },
    {
      "cell_type": "markdown",
      "source": [
        "To create a table in MySQL:\n",
        "\n",
        "```sql\n",
        "CREATE TABLE table_name (\n",
        "   column1 datatype,\n",
        "   column2 datatype,\n",
        "   column3 datatype,\n",
        "   .....\n",
        ");\n",
        "```\n"
      ],
      "metadata": {
        "id": "Tt_dt-DIf419"
      }
    },
    {
      "cell_type": "markdown",
      "source": [
        "### 1.4.3 View The Tables"
      ],
      "metadata": {
        "id": "zLDU6CHzgZFr"
      }
    },
    {
      "cell_type": "markdown",
      "source": [
        "To view the tables:\n",
        "\n",
        ">  ```sql\n",
        ">  SHOW TABLES;\n",
        ">  ```\n",
        "\n",
        "This command will return a list of all the tables in the currently selected database. \n",
        "For example, if you want to view the tables in a database named \"mydatabase\", you would use the following commands:\n",
        "\n",
        "To view the columns of a table in MySQL:\n",
        "\n",
        ">  ```sql\n",
        ">  SHOW COLUMNS FROM table_name;\n",
        ">  ```\n",
        "\n",
        "To see more information about a specific table, can use the `DESCRIBE` or `EXPLAIN` command followed by the name of the table:\n",
        "\n",
        ">  ```sql\n",
        ">  DESCRIBE table_name;\n",
        ">  ```\n",
        "\n",
        "This command will show you the structure of the specified table, including the names and data types of the columns. \n",
        "\n",
        "Using the  `DESCRIBE` command to view the structure of a table, which includes information about the columns as well as any indexes, keys, or constraints that have been defined for the table:\n",
        "\n",
        ">  ```sql\n",
        ">  DESCRIBE table_name;\n",
        ">  ```\n",
        "\n",
        "This will show you the same information as the `SHOW COLUMNS` command, as well as any additional information about the table's structure.\n"
      ],
      "metadata": {
        "id": "c5U_E-XBge18"
      }
    },
    {
      "cell_type": "markdown",
      "source": [
        "### 1.4.4 Default Values in mySQL "
      ],
      "metadata": {
        "id": "15KCFbDg7tJN"
      }
    },
    {
      "cell_type": "markdown",
      "source": [
        "\n",
        "\n",
        "In MySQL, default values are used to provide a predefined value for a column if no value is explicitly specified during the insertion of a new row into the table. Default values are also used when a column is added to an existing table and the column needs to be assigned a default value for all existing rows.\n",
        "\n",
        "Some important things to know about default values in MySQL:\n",
        "\n",
        "1. Default values can be assigned to any column in a table, except for columns that are part of the PRIMARY KEY or a UNIQUE constraint.\n",
        "\n",
        "2. The default value can be specified at the time of table creation, or when a new column is added to an existing table using the ALTER TABLE statement.\n",
        "\n",
        "3. The default value can be a literal value such as a string, number, or date, or it can be a system function that generates a value such as CURRENT_TIMESTAMP.\n",
        "\n",
        "4. If a column with a default value is not included in the INSERT statement, MySQL will automatically insert the default value into the column.\n",
        "\n",
        "5. If a column with a default value is included in the INSERT statement with a NULL value, MySQL will insert the default value into the column instead of the NULL value.\n",
        "\n",
        "6. When a default value is assigned to a column, it is stored in the table definition and not with individual rows of data.\n",
        "\n",
        "7. If a default value is changed using ALTER TABLE, the new default value will only apply to new rows added to the table. Existing rows will retain their original default value.\n",
        "\n",
        "8. Default values can be overridden by explicitly specifying a value for the column in the INSERT statement.\n",
        "\n",
        "9. If a default value is assigned to a column and the column is subsequently dropped from the table, the default value is also removed from the table definition.\n",
        "\n",
        "\n",
        "\n",
        "In MySQL, \n",
        "\n",
        "1. **Specifying default values when creating a new table:**\n",
        "\n",
        "When creating a new table, can specify default values for columns using the DEFAULT keyword followed by the value want to set as the default. \n",
        "\n",
        ">  ```sql\n",
        ">  CREATE TABLE my_table (\n",
        ">     id INT NOT NULL,\n",
        ">     name VARCHAR(50) DEFAULT 'John',\n",
        ">     age INT DEFAULT 30\n",
        ">  );\n",
        ">  ```\n",
        "\n",
        "\n",
        "2. **Specifying default values when adding a new column to an existing table:**\n",
        "\n",
        ">  When adding a new column to an existing table, can specify the default value using the ALTER TABLE statement.\n",
        ">\n",
        ">  ```sql\n",
        ">  ALTER TABLE my_table ADD COLUMN address VARCHAR(100) DEFAULT 'Unknown';\n",
        ">  ```\n",
        "\n",
        "3. **To modify the default value of an existing column** using ALTER TABLE with the MODIFY COLUMN option.\n",
        "\n",
        ">  ```sql\n",
        ">  ALTER TABLE my_table MODIFY COLUMN age INT DEFAULT 35;\n",
        ">  ```\n",
        ">\n",
        ">  Note that default values can be specified for any column type **except for the BLOB, TEXT, and JSON data types**. Additionally, the DEFAULT keyword is not used when specifying default values for **ENUM and SET columns**. Instead, the default value is specified as one of the values in the ENUM or SET list."
      ],
      "metadata": {
        "id": "43Xw3YZU7yBC"
      }
    },
    {
      "cell_type": "markdown",
      "source": [
        "### 1.4.5 Inserting Data"
      ],
      "metadata": {
        "id": "R-SPXrHzY71U"
      }
    },
    {
      "cell_type": "markdown",
      "source": [
        " `INSERT INTO` statement syntax:\n",
        "\n",
        "1. **Inserting a single row of data with specific values**\n",
        "\n",
        ">  ```sql\n",
        ">  INSERT INTO table_name (column1, column2, column3) \n",
        ">  VALUES (value1, value2, value3);\n",
        ">  ```\n",
        "\n",
        "2. **Inserting multiple rows of data with specific values**\n",
        "\n",
        ">  ```sql\n",
        ">  INSERT INTO table_name (column1, column2, column3) \n",
        ">  VALUES (value1, value2, value3), \n",
        ">         (value4, value5, value6), \n",
        ">         (value7, value8, value9);\n",
        ">  ```\n",
        "\n",
        "3. **Inserting a single row of data with default values**\n",
        "\n",
        ">  ```sql\n",
        ">  INSERT INTO table_name DEFAULT VALUES;\n",
        ">  ```\n",
        ">\n",
        ">  This syntax allows you to insert a single row of data into a table with default values for all columns. If you have specified default values for the columns in the table definition, they will be used. Otherwise, the default value for each column type will be used.\n",
        "\n",
        "4. **Inserting data from another table**\n",
        "\n",
        ">  ```sql\n",
        ">  INSERT INTO table_name (column1, column2, column3)  \n",
        ">  SELECT column1, column2, column3 FROM other_table WHERE condition;\n",
        ">  ```\n",
        "\n"
      ],
      "metadata": {
        "id": "TJKQr9hnY_6f"
      }
    },
    {
      "cell_type": "markdown",
      "source": [
        "### 1.4.6 Select From "
      ],
      "metadata": {
        "id": "0Lm9-72wkBBH"
      }
    },
    {
      "cell_type": "markdown",
      "source": [
        "To select data from a MySQL table, can use the `SELECT` statement\n",
        "\n",
        "1. **Selecting all columns from a table**\n",
        "\n",
        ">  ```sql\n",
        ">  SELECT * FROM table_name;\n",
        ">  ```\n",
        ">\n",
        ">  In this syntax, the `*` character is used to select all columns from the specified table.\n",
        "\n",
        "2. **Selecting specific columns from a table**\n",
        "\n",
        ">  ```sql\n",
        ">  SELECT column1, column2, column3 FROM table_name;\n",
        ">  ```\n",
        ">\n",
        ">  This syntax allows to select specific columns from the specified table by listing them after the `SELECT` keyword, separated by commas.\n",
        "\n",
        "3. **Selecting distinct values from a column**\n",
        "\n",
        ">  ```sql\n",
        ">  SELECT DISTINCT column1 FROM table_name;\n",
        ">  ```\n",
        ">\n",
        ">  This syntax allows to select only the unique values from a column in the specified table.\n",
        "\n",
        "4. **Filtering rows with a WHERE clause**\n",
        "\n",
        ">  ```sql\n",
        ">  SELECT column1, column2 FROM table_name WHERE condition;\n",
        ">  ```\n",
        ">\n",
        ">  This syntax allows to select specific columns from the specified table and filter the rows based on a condition specified in the `WHERE` clause. The condition can be a comparison, such as `column1 = 'value'`, or a logical operator, such as `column2 > 10 AND column3 < 20`.\n",
        "\n",
        "5. **Limiting the number of rows with a LIMIT clause**\n",
        "\n",
        ">  ```sql\n",
        ">  SELECT column1, column2 FROM table_name LIMIT 10;\n",
        ">  ```\n",
        ">\n",
        "> This syntax allows to limit the number of rows returned by the `SELECT` statement. The `LIMIT` keyword is used to specify the maximum number of rows to return."
      ],
      "metadata": {
        "id": "2VlYKMwnkHCj"
      }
    },
    {
      "cell_type": "markdown",
      "source": [
        "### 1.4.7 Update"
      ],
      "metadata": {
        "id": "XKdfWO5Bqagl"
      }
    },
    {
      "cell_type": "markdown",
      "source": [
        "UPDATE is used to modify data in a table. \n",
        "\n",
        ">  ```sql\n",
        ">  UPDATE table_name SET column_name = new_value WHERE condition;\n",
        ">  ```\n",
        ">\n",
        "> - `table_name`: The name of the table that you want to modify.\n",
        "> - `column_name`: The name of the column that you want to update.\n",
        "> - `new_value`: The new value that you want to set for the column.\n",
        "> - `condition`: The condition that specifies which rows to update.\n",
        "\n",
        "\n",
        "To update multiple columns in a single UPDATE statement by separating each column with a comma:\n",
        "\n",
        ">  ```sql\n",
        ">  UPDATE users SET age = 30, email = 'new_email@example.com' WHERE id = 1;\n",
        ">  ```\n",
        "\n",
        "This will modify the age and email columns of the user with id 1.\n",
        "\n",
        "To update all the rows in a table:\n",
        "\n",
        ">  ```sql\n",
        ">  UPDATE table_name SET column_name = new_value;\n",
        ">  ```\n",
        "\n",
        "This will update all the rows in the table with the new value for the specified column."
      ],
      "metadata": {
        "id": "BgPftK6Cqmnm"
      }
    },
    {
      "cell_type": "markdown",
      "source": [
        "### 1.4.8 Delete"
      ],
      "metadata": {
        "id": "jLNz-_TzrO1F"
      }
    },
    {
      "cell_type": "markdown",
      "source": [
        "MySQL DELETE is a command used to delete one or more **rows** from a table.\n",
        "\n",
        ">  ```sql\n",
        ">  DELETE FROM table_name WHERE condition;\n",
        ">  ```\n",
        "> \n",
        ">  - `table_name`: The name of the table from which you want to delete rows.\n",
        ">  - `condition`: The condition that specifies which rows to delete.\n",
        "\n",
        "\n",
        "To delete all the rows in a table:\n",
        "\n",
        ">  ```sql\n",
        ">  DELETE FROM table_name;\n",
        ">  ```\n",
        "\n",
        "In addition , \n",
        "> ```sql\n",
        "> TRUNCATE TABLE table_name;\n",
        "> ```\n",
        "can be used to delete all the entries from a table"
      ],
      "metadata": {
        "id": "Ge6Fy9pNvhWn"
      }
    },
    {
      "cell_type": "markdown",
      "source": [
        "### 1.4.9 Alter Table (Change table structure)"
      ],
      "metadata": {
        "id": "9gLeAyszxBFI"
      }
    },
    {
      "cell_type": "markdown",
      "source": [
        "MySQL ALTER TABLE is a command used to modify the structure of an existing table. It can be used to add, delete, or modify columns, change data types, add or drop constraints, and rename tables. The ALTER TABLE statement can also be used to optimize the table, change the engine type, and set table-level options.\n",
        "\n",
        "The syntax for the ALTER TABLE statement is as follows:\n",
        "\n",
        ">  ```sql\n",
        ">  ALTER TABLE table_name action;\n",
        ">  ```\n",
        ">  \n",
        ">  - `table_name`: The name of the table that you want to modify.\n",
        ">  - `action`: The action that you want to perform on the table.\n",
        "\n",
        "Some actions that can be performed using ALTER TABLE:\n",
        "\n",
        "1. **Add a new column:**\n",
        "\n",
        ">  ```sql\n",
        ">  ALTER TABLE table_name ADD column_name datatype;\n",
        ">  ```\n",
        "\n",
        "2. **Delete a column:**\n",
        "\n",
        ">  ```sql\n",
        ">  ALTER TABLE table_name DROP COLUMN column_name;\n",
        ">  ```\n",
        "\n",
        "3. **Modify a column:**\n",
        "\n",
        ">  ```sql\n",
        ">  ALTER TABLE table_name MODIFY column_name new_datatype;\n",
        ">  ```\n",
        "\n",
        "4. **Rename a table:**\n",
        "\n",
        ">  ```sql\n",
        ">  ALTER TABLE old_table_name RENAME TO new_table_name;\n",
        ">  ```\n",
        "\n",
        "5. **Change the table engine:**\n",
        "\n",
        ">  ```sql\n",
        ">  ALTER TABLE table_name ENGINE = InnoDB;\n",
        ">  ```\n",
        "\n",
        "6. **Add a primary key:**\n",
        "\n",
        ">  ```sql\n",
        ">  ALTER TABLE table_name ADD PRIMARY KEY (column_name);\n",
        ">  ```\n",
        "\n",
        "7. **Add a foreign key:**\n",
        "\n",
        ">  ```sql\n",
        ">  ALTER TABLE table_name ADD CONSTRAINT fk_name FOREIGN KEY (column_name) REFERENCES other_table(column_name);\n",
        ">  ```\n",
        "\n",
        "8. **Remove a constraint:**\n",
        "\n",
        ">  ```sql\n",
        ">  ALTER TABLE table_name DROP CONSTRAINT constraint_name;\n",
        ">  ```\n",
        "\n",
        "It is important to note that altering a table can be a time-consuming operation, particularly for large tables. Therefore, it is recommended to perform ALTER TABLE statements during off-peak hours when there is less activity on the database.\n",
        "\n",
        "Also, make sure to backup  data before performing any modifications to a table. Incorrect use of the ALTER TABLE statement can cause data loss or corruption, so it's important to test any changes in a non-production environment before applying them to  production database."
      ],
      "metadata": {
        "id": "KdVyLjF_xINR"
      }
    },
    {
      "cell_type": "markdown",
      "source": [
        "### 1.4.10 SQL Operators"
      ],
      "metadata": {
        "id": "jJY08Qsy0tRQ"
      }
    },
    {
      "cell_type": "markdown",
      "source": [
        "\n",
        "\n",
        "1. **Arithmetic operators**\n",
        "\n",
        "| Operator | Description                | Example                    |\n",
        "|----------|----------------------------|----------------------------|\n",
        "| +        | Addition                   | `SELECT 5 + 3;`             |\n",
        "| -        | Subtraction                | `SELECT 5 - 3;`             |\n",
        "| *        | Multiplication             | `SELECT 5 * 3;`             |\n",
        "| /        | Division                   | `SELECT 5 / 3;`             |\n",
        "| %        | Modulo (remainder of div.) | `SELECT 5 % 3;`             |\n",
        "\n",
        "2. **Comparison operators**\n",
        "\n",
        "| Operator | Description                | Example                          |\n",
        "|----------|----------------------------|----------------------------------|\n",
        "| =        | Equal to                   | `SELECT * FROM employees WHERE age = 30;` |\n",
        "| <>       | Not equal to               | `SELECT * FROM employees WHERE department <> 'sales';` |\n",
        "| <        | Less than                  | `SELECT * FROM products WHERE price < 10;` |\n",
        "| >        | Greater than               | `SELECT * FROM products WHERE price > 50;` |\n",
        "| <=       | Less than or equal to      | `SELECT * FROM products WHERE price <= 10;` |\n",
        "| >=       | Greater than or equal to   | `SELECT * FROM products WHERE price >= 50;` |\n",
        "\n",
        "3. **Logical operators**\n",
        "\n",
        "| Operator | Description                | Example                                                    |\n",
        "|----------|----------------------------|------------------------------------------------------------|\n",
        "| AND      | Logical AND                | `SELECT * FROM employees WHERE age > 30 AND salary > 50000;` |\n",
        "| OR       | Logical OR                 | `SELECT * FROM employees WHERE age > 30 OR salary > 50000;`  |\n",
        "| NOT      | Logical NOT                | `SELECT * FROM employees WHERE NOT age > 30;`               |\n",
        "\n",
        "4. **Bitwise operators**\n",
        "\n",
        "| Operator | Description                | Example                                      |\n",
        "|----------|----------------------------|----------------------------------------------|\n",
        "| &        | Bitwise AND                | `SELECT 5 & 3;`                               |\n",
        "| \\|       | Bitwise OR                 | `SELECT 5 \\| 3;`                              |\n",
        "| ^        | Bitwise XOR                | `SELECT 5 ^ 3;`                               |\n",
        "| ~        | Bitwise NOT                | `SELECT ~5;`                                  |\n",
        "| <<       | Bitwise left shift         | `SELECT 5 << 1;`                              |\n",
        "| >>       | Bitwise right shift        | `SELECT 5 >> 1;`                              |\n"
      ],
      "metadata": {
        "id": "iJSFh2E30zyp"
      }
    },
    {
      "cell_type": "markdown",
      "source": [
        "### 1.4.11 Where clause"
      ],
      "metadata": {
        "id": "eGkyBs32Y6CY"
      }
    },
    {
      "cell_type": "markdown",
      "source": [
        "The WHERE clause in MySQL is used to filter rows from a table based on a specified condition. It allows to specify one or more conditions that must be met for a row to be included in the result set of a SELECT statement.\n",
        "\n",
        "**Syntax:**\n",
        "The basic syntax of the WHERE clause is as follows:\n",
        "\n",
        ">  ```sql\n",
        ">  SELECT column1, column2, ...\n",
        ">  FROM table_name\n",
        ">  WHERE condition;\n",
        ">  ```\n",
        ">\n",
        ">  Where:\n",
        ">  - `column1`, `column2`, ... are the columns to retrieve data from.\n",
        ">  - `table_name` is the name of the table from which to retrieve data.\n",
        ">  - `condition` is a logical expression that evaluates to either true or false.\n",
        "\n",
        "**Operators used in WHERE clause:**\n",
        "\n",
        "- `=` : Equal to\n",
        "- `!=` or `<>` : Not equal to\n",
        "- `>` : Greater than\n",
        "- `<` : Less than\n",
        "- `>=` : Greater than or equal to\n",
        "- `<=` : Less than or equal to\n",
        "- `LIKE` : Pattern matching\n",
        "- `IN` : Matches any value in a list\n",
        "- `BETWEEN` : Matches any value within a range\n",
        "- `IS NULL` : Matches any NULL value\n",
        "\n",
        "**Examples:**\n",
        "\n",
        "1. **Retrieve data based on a single condition:**\n",
        ">  ```sql\n",
        ">  SELECT * FROM table1\n",
        ">  WHERE column1 = 'value';\n",
        ">  ```\n",
        ">\n",
        ">  This will retrieve all rows from the `table1` table where `column1` is equal to `'value'`.\n",
        "\n",
        "2. **Retrieve data based on multiple conditions:**\n",
        ">  ```sql\n",
        ">  SELECT * FROM table1\n",
        ">  WHERE column1 = 'value1' AND column2 = 'value2';\n",
        ">  ```\n",
        ">\n",
        ">  This will retrieve all rows from the `table1` table where `column1` is equal to `'value1'` and `column2` is equal to `'value2'`.\n",
        "\n",
        "3. **Retrieve data using the LIKE operator:**\n",
        ">  ```sql\n",
        ">  SELECT * FROM table1\n",
        ">  WHERE column1 LIKE 'value%';\n",
        ">  ```\n",
        ">\n",
        ">  This will retrieve all rows from the `table1` table where `column1` starts with the word `'value'`.\n",
        "\n",
        "4. **Retrieve data using the IN operator:**\n",
        ">  ```sql\n",
        ">  SELECT * FROM table1\n",
        ">  WHERE column1 IN ('value1', 'value2', 'value3');\n",
        ">  ```\n",
        ">\n",
        ">  This will retrieve all rows from the `table1` table where `column1` matches any value in the list of `'value1'`, `'value2'`, and `'value3'`.\n",
        "\n",
        "5. **Retrieve data using the BETWEEN operator:**\n",
        ">  ```sql\n",
        ">  SELECT * FROM table1\n",
        ">  WHERE column1 BETWEEN 10 AND 20;\n",
        ">  ```\n",
        ">\n",
        ">  This will retrieve all rows from the `table1` table where `column1` matches any value within the range of `10` and `20`.\n",
        "\n",
        "6. **Retrieve data using the IS NULL operator:**\n",
        ">  ```sql\n",
        ">  SELECT * FROM table1\n",
        ">  WHERE column1 IS NULL;\n",
        ">  ```\n",
        ">\n",
        ">  This will retrieve all rows from the `table1` table where `column1` matches any NULL value.\n"
      ],
      "metadata": {
        "id": "hHfo9w5VY9w0"
      }
    },
    {
      "cell_type": "markdown",
      "source": [
        "### 1.4.12 Select Distinct"
      ],
      "metadata": {
        "id": "u2A8zhRRfOp9"
      }
    },
    {
      "cell_type": "markdown",
      "source": [
        "`SELECT DISTINCT` statement in MySQL:\n",
        "\n",
        "The `SELECT DISTINCT` statement in MySQL is used to retrieve unique values from a specific column or a combination of columns in a table. It eliminates duplicates and returns only the distinct values.\n",
        "\n",
        "**Syntax:**\n",
        "The basic syntax of the `SELECT DISTINCT` statement is as follows:\n",
        "\n",
        ">  ```sql\n",
        ">  SELECT DISTINCT column1, column2, ...\n",
        ">  FROM table_name;\n",
        ">  ```\n",
        ">\n",
        ">  Where:\n",
        ">  - `column1`, `column2`, ... are the columns to retrieve unique values from.\n",
        ">  - `table_name` is the name of the table from which to retrieve data.\n",
        "\n",
        "**Example:**\n",
        "\n",
        "Consider the following `table1`:\n",
        "\n",
        ">  ```\n",
        ">  id | name | age\n",
        ">  ---|------|----\n",
        ">  1  | John | 25\n",
        ">  2  | Jane | 30\n",
        ">  3  | John | 25\n",
        ">  4  | Mary | 35\n",
        ">  ```\n",
        "\n",
        "To retrieve the distinct values of the `name` column, \n",
        "\n",
        ">  ```sql\n",
        ">  SELECT DISTINCT name\n",
        ">  FROM table1;\n",
        ">  ```\n",
        "\n",
        "This will return the following result:\n",
        "\n",
        ">  ```\n",
        ">  name\n",
        ">  ----\n",
        ">  John\n",
        ">  Jane\n",
        ">  Mary\n",
        ">  ```\n",
        "\n",
        "To retrieve the distinct values of a combination of columns, \n",
        "\n",
        ">  ```sql\n",
        ">  SELECT DISTINCT name, age\n",
        ">  FROM table1;\n",
        ">  ```\n",
        "\n",
        "This will return the following result:\n",
        "\n",
        ">  ```\n",
        ">  name | age\n",
        ">  -----|----\n",
        ">  John | 25\n",
        ">  Jane | 30\n",
        ">  Mary | 35\n",
        ">  ```\n",
        "\n",
        "It is important to note that the `SELECT DISTINCT` statement is slower than the regular `SELECT` statement because it needs to compare each row with all previous rows to eliminate duplicates. Therefore, it is recommended to use it only when necessary."
      ],
      "metadata": {
        "id": "7yN6IzH8fS7z"
      }
    },
    {
      "cell_type": "markdown",
      "source": [
        "### 1.4.13 Sorting Data"
      ],
      "metadata": {
        "id": "yChKuOfaWT5M"
      }
    },
    {
      "cell_type": "markdown",
      "source": [
        "The `ORDER BY` clause is used in MySQL to sort the result set of a SELECT statement. It allows you to specify one or more columns to sort by and the order in which they should be sorted. \n",
        "\n",
        "Syntax:\n",
        "The basic syntax of the ORDER BY clause is as follows:\n",
        "\n",
        ">  ```sql\n",
        ">  SELECT column1, column2, ...\n",
        ">  FROM table_name\n",
        ">  ORDER BY column1, column2, ... ASC|DESC;\n",
        ">  ```\n",
        ">\n",
        "> Where:\n",
        "> - `column1`, `column2`, ... are the columns to sort by.\n",
        "> - `table_name` is the name of the table from which to retrieve data.\n",
        "> - `ASC` or `DESC` specifies the order in which to sort the data. `ASC` is the default and sorts the data in ascending order, while `DESC` sorts the data in descending order.\n",
        "\n",
        "Examples:\n",
        "\n",
        "1. **Sort data in ascending order:**\n",
        ">  ```sql\n",
        ">  SELECT * FROM table1\n",
        ">  ORDER BY column1;\n",
        ">  ```\n",
        ">\n",
        "> This will sort the data in the `table1` table by the values in `column1` in ascending order.\n",
        "\n",
        "2. **Sort data in descending order:**\n",
        ">  ```sql\n",
        ">  SELECT * FROM table1\n",
        ">  ORDER BY column1 DESC;\n",
        ">  ```\n",
        ">\n",
        ">  This will sort the data in the `table1` table by the values in `column1` in descending order.\n",
        "\n",
        "3. **Sort data by multiple columns:**\n",
        ">  ```sql\n",
        ">  SELECT * FROM table1\n",
        ">  ORDER BY column1, column2 DESC;\n",
        ">  ```\n",
        ">\n",
        ">  This will sort the data in the `table1` table first by the values in `column1` in ascending order, and then by the values in `column2` in descending order.\n",
        "\n",
        "It is important to note that the ORDER BY clause should be the last clause in a SELECT statement. Any clauses that come after the ORDER BY clause, such as the LIMIT clause, will be applied after the data has been sorted.\n"
      ],
      "metadata": {
        "id": "lmh5ARNDWWaX"
      }
    },
    {
      "cell_type": "markdown",
      "source": [
        "##1.5 Database Schema"
      ],
      "metadata": {
        "id": "8mOQXTiGZFr3"
      }
    },
    {
      "cell_type": "markdown",
      "source": [
        "### 1.5.1 Introduction"
      ],
      "metadata": {
        "id": "UXPf3ZbJZvmF"
      }
    },
    {
      "cell_type": "markdown",
      "source": [
        "The database schema in MySQL is a structure that defines the logical and physical layout of a database. It consists of the database objects such as tables, views, indexes, and stored procedures, and their relationships with each other.\n",
        "\n",
        "MySQL is a relational database management system (RDBMS), which means that it organizes data in tables with defined relationships between them. Each table consists of rows and columns, where rows represent individual records and columns represent the data attributes or fields of the records.\n",
        "\n",
        "**Tables:**\n",
        "Tables are the most important part of the database schema in MySQL. They store data in a structured manner and are organized based on relationships between their columns. Each table has a unique name and a set of columns that define the data type and properties of the data in each column.\n",
        "\n",
        "**Indexes:**\n",
        "Indexes are used to improve the performance of queries on large tables by providing a faster way to retrieve data. They are created on one or more columns of a table and help to optimize the search process by allowing the database to quickly locate the data without scanning the entire table.\n",
        "\n",
        "**Views:**\n",
        "Views are virtual tables that are created based on the results of a SELECT statement. They are used to simplify complex queries and provide an abstraction layer between the user and the underlying data in the database. Views do not store data, but rather provide a way to access the data in a more user-friendly manner.\n",
        "\n",
        "**Stored Procedures:**\n",
        "Stored Procedures are a set of SQL statements that are stored in the database and can be executed as a single unit. They are used to automate tasks, improve performance, and provide security by allowing users to access the data without directly accessing the tables.\n",
        "\n",
        "**Relationships:**\n",
        "Relationships define the association between two or more tables in the database schema. There are three types of relationships: one-to-one, one-to-many, and many-to-many. They are established using primary and foreign keys, which are unique identifiers that link the tables together.\n",
        "\n",
        "**Normalization:**\n",
        "Normalization is the process of organizing the database schema to reduce redundancy and improve data consistency. It involves dividing the database into smaller, more manageable tables and establishing relationships between them.\n"
      ],
      "metadata": {
        "id": "taKcoLy8ZIo3"
      }
    },
    {
      "cell_type": "markdown",
      "source": [
        "### 1.5.2 References"
      ],
      "metadata": {
        "id": "VxQxwEZdZ0Cg"
      }
    },
    {
      "cell_type": "markdown",
      "source": [
        "In MySQL, `REFERENCES` is a keyword used to define a `foreign key` constraint. A `foreign key` constraint is a rule that specifies that the values in a column (or a group of columns) of one table must match the values in a column (or a group of columns) of another table. The table that contains the foreign key is called the child table, and the table that is referenced is called the parent table.\n",
        "\n",
        "**The syntax** \n",
        "\n",
        ">  ```sql\n",
        ">  CREATE TABLE child_table (\n",
        ">    column1 datatype,\n",
        ">    column2 datatype,\n",
        ">    ...\n",
        ">    FOREIGN KEY (column_name) REFERENCES parent_table (column_name)\n",
        ">  );\n",
        ">  ```\n",
        "\n",
        "Here, `child_table` is the name of the child table, `column1`, `column2`, etc. are the names of the columns in the child table, and `column_name` is the name of the column in both the child and parent tables that are being matched.\n",
        "\n",
        "**Example**\n",
        "\n",
        ">  ```sql\n",
        ">  CREATE TABLE orders (\n",
        ">    order_id INT PRIMARY KEY,\n",
        ">    customer_id INT,\n",
        ">    order_date DATE,\n",
        ">    FOREIGN KEY (customer_id) REFERENCES customers(customer_id)\n",
        ">  );\n",
        "> \n",
        ">  CREATE TABLE customers (\n",
        ">    customer_id INT PRIMARY KEY,\n",
        ">    first_name VARCHAR(50),\n",
        ">    last_name VARCHAR(50),\n",
        ">    email VARCHAR(50)\n",
        ">  );\n",
        ">  ```\n",
        "\n",
        "In this example, there are two tables, `orders` and `customers`. The `orders` table has a foreign key constraint on the `customer_id` column that references the `customer_id` column in the `customers` table. This ensures that any value inserted into the `customer_id` column in the `orders` table must match a value in the `customer_id` column of the `customers` table.\n",
        "\n",
        "Using REFERENCES in MySQL **ensures data integrity by preventing data from being inserted into the child table if the corresponding value does not exist in the parent table**. It also provides a way to enforce business rules and constraints in the database."
      ],
      "metadata": {
        "id": "2WB_Kt1-Z5V7"
      }
    },
    {
      "cell_type": "markdown",
      "source": [
        "#### 1.5.2.1 Example For references"
      ],
      "metadata": {
        "id": "k3jvgssnbw9D"
      }
    },
    {
      "cell_type": "markdown",
      "source": [
        "Two tables, `students` and `courses`, that have a many-to-many relationship. A student can be enrolled in multiple courses, and each course can have multiple students enrolled in it. To represent this relationship, create a third table called `enrollments` that has foreign keys that reference both the `students` and `courses` tables.\n",
        "\n",
        ">  ```sql\n",
        "> CREATE TABLE students (\n",
        ">   student_id INT PRIMARY KEY,\n",
        ">   first_name VARCHAR(50),\n",
        ">   last_name VARCHAR(50),\n",
        ">   email VARCHAR(50)\n",
        "> );\n",
        ">\n",
        "> CREATE TABLE courses (\n",
        ">   course_id INT PRIMARY KEY,\n",
        ">   course_name VARCHAR(50),\n",
        ">   instructor VARCHAR(50)\n",
        "> );\n",
        ">\n",
        "> CREATE TABLE enrollments (\n",
        ">   enrollment_id INT PRIMARY KEY,\n",
        ">   student_id INT,\n",
        ">   course_id INT,\n",
        ">   enrollment_date DATE,\n",
        ">   FOREIGN KEY (student_id) REFERENCES students(student_id),\n",
        ">   FOREIGN KEY (course_id) REFERENCES courses(course_id)\n",
        "> );\n",
        "> ```\n",
        "\n",
        "In this example, create the `students` and `courses` tables with their respective columns, and then create the `enrollments` table with a foreign key constraint on the `student_id` column that references the `student_id` column in the `students` table, and a foreign key constraint on the `course_id` column that references the `course_id` column in the `courses` table.\n",
        "\n",
        "Now, to insert data into the `enrollments` table, must ensure that the `student_id` and `course_id` values exist in their respective parent tables.\n",
        "\n",
        "For example:\n",
        "\n",
        ">  ```sql\n",
        ">  INSERT INTO enrollments (enrollment_id, student_id, course_id, enrollment_date) VALUES (1, 123, 456, '2023-05-12');\n",
        ">  ```\n",
        "\n",
        "This insert statement will fail if the `student_id` or `course_id` value does not exist in their respective parent tables.\n",
        "\n",
        "\n"
      ],
      "metadata": {
        "id": "rPoQdAUpb6Oe"
      }
    }
  ]
}