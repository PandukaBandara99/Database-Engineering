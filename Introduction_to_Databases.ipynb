{
  "nbformat": 4,
  "nbformat_minor": 0,
  "metadata": {
    "colab": {
      "provenance": [],
      "authorship_tag": "ABX9TyPOI7IPD/uy+dfCEJ4boZ+a",
      "include_colab_link": true
    },
    "kernelspec": {
      "name": "python3",
      "display_name": "Python 3"
    },
    "language_info": {
      "name": "python"
    }
  },
  "cells": [
    {
      "cell_type": "markdown",
      "metadata": {
        "id": "view-in-github",
        "colab_type": "text"
      },
      "source": [
        "<a href=\"https://colab.research.google.com/github/PandukaBandara99/Database-Engineering/blob/main/Introduction_to_Databases.ipynb\" target=\"_parent\"><img src=\"https://colab.research.google.com/assets/colab-badge.svg\" alt=\"Open In Colab\"/></a>"
      ]
    },
    {
      "cell_type": "markdown",
      "source": [
        "Mahela Panduka Bandara ; <br> UG @ Dpt. of Electronic & Electrical Engineering ;<br> University of Peradeniya ;<br> 2023/05 <br><br> Email : e19039@end.pdn.ac.lk <br> LinkedIN : https://www.linkedin.com/in/pandukabandara/"
      ],
      "metadata": {
        "id": "lKXVALiHeBdg"
      }
    },
    {
      "cell_type": "markdown",
      "source": [
        "References : \n",
        "1. https://www.coursera.org/professional-certificates/meta-database-engineer"
      ],
      "metadata": {
        "id": "zoB4tumseC-a"
      }
    },
    {
      "cell_type": "markdown",
      "source": [
        "# 1.0 Introduction to Databases"
      ],
      "metadata": {
        "id": "ocsnAcVteLg2"
      }
    }
  ]
}