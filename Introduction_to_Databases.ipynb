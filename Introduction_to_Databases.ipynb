{
  "nbformat": 4,
  "nbformat_minor": 0,
  "metadata": {
    "colab": {
      "provenance": [],
      "toc_visible": true,
      "include_colab_link": true
    },
    "kernelspec": {
      "name": "python3",
      "display_name": "Python 3"
    },
    "language_info": {
      "name": "python"
    }
  },
  "cells": [
    {
      "cell_type": "markdown",
      "metadata": {
        "id": "view-in-github",
        "colab_type": "text"
      },
      "source": [
        "<a href=\"https://colab.research.google.com/github/PandukaBandara99/Database-Engineering/blob/main/Introduction_to_Databases.ipynb\" target=\"_parent\"><img src=\"https://colab.research.google.com/assets/colab-badge.svg\" alt=\"Open In Colab\"/></a>"
      ]
    },
    {
      "cell_type": "markdown",
      "source": [
        "Mahela Panduka Bandara ; <br> UG @ Dpt. of Electronic & Electrical Engineering ;<br> University of Peradeniya ;<br> 2023/05 <br><br> Email : e19039@end.pdn.ac.lk <br> LinkedIN : https://www.linkedin.com/in/pandukabandara/"
      ],
      "metadata": {
        "id": "lKXVALiHeBdg"
      }
    },
    {
      "cell_type": "markdown",
      "source": [
        "References : \n",
        "1. https://www.coursera.org/professional-certificates/meta-database-engineer"
      ],
      "metadata": {
        "id": "zoB4tumseC-a"
      }
    },
    {
      "cell_type": "markdown",
      "source": [
        "# 1.0 Introduction to Databases"
      ],
      "metadata": {
        "id": "ocsnAcVteLg2"
      }
    },
    {
      "cell_type": "markdown",
      "source": [
        "## 1.1 Databases"
      ],
      "metadata": {
        "id": "EiyiemnMfBh-"
      }
    },
    {
      "cell_type": "markdown",
      "source": [
        "Databases store and organize large amounts of information, using a variety of structures and models such as relational, NoSQL, object-oriented, hierarchical, and network.\n",
        "Types of databases:\n",
        "1. **Relational databases:** These databases store data in tables with rows and columns. They use a structured query language (SQL) to manage and manipulate data. Examples of relational databases include MySQL, Oracle, and PostgreSQL.\n",
        "\n",
        "2. **NoSQL databases:** These databases use a non-relational data model, which means they don't use tables, rows, and columns. Instead, they use a variety of data models, such as document, key-value, and graph. Examples of NoSQL databases include MongoDB, Cassandra, and Redis.\n",
        "\n",
        "3. **Object-oriented databases:** These databases are designed to work with object-oriented programming languages, such as Java and C++. They store data in objects, which are similar to the objects used in programming. Examples of object-oriented databases include db4o and ObjectDB.\n",
        "\n",
        "4. **Hierarchical databases:** These databases organize data in a tree-like structure, with each record having one parent and possibly many children. They're often used for storing information about organizational structures or file systems. Examples of hierarchical databases include IBM's Information Management System (IMS) and the Windows Registry.\n",
        "\n",
        "5. **Network databases:** These databases are similar to hierarchical databases, but they allow each record to have multiple parents and children, forming a network of relationships. They're often used for modeling complex relationships between entities. Examples of network databases include Integrated Data Store (IDS) and CA-IDMS."
      ],
      "metadata": {
        "id": "PPDHw_nFfDui"
      }
    },
    {
      "cell_type": "markdown",
      "source": [
        "## 1.2 Introduction To SQL"
      ],
      "metadata": {
        "id": "Pn0qYp-_fdDX"
      }
    },
    {
      "cell_type": "markdown",
      "source": [
        "**Structured Query Language (SQL)** is a programming language used to manage and manipulate relational databases."
      ],
      "metadata": {
        "id": "u_yuD6xif76u"
      }
    },
    {
      "cell_type": "markdown",
      "source": [
        "### 1.2.1  SQL Commands"
      ],
      "metadata": {
        "id": "wO_f4Fn3f-R1"
      }
    },
    {
      "cell_type": "markdown",
      "source": [
        "In SQL (Structured Query Language), there are four main types of commands:\n",
        "\n",
        "1. **Data Definition Language (DDL):** These commands are used to define the structure of the database, including creating, altering, and deleting tables and other objects. Examples include CREATE, ALTER, and DROP.\n",
        "\n",
        "2. **Data Manipulation Language (DML):** These commands are used to manipulate data within the database, including inserting, updating, and deleting data. Examples include INSERT, UPDATE, and DELETE.\n",
        "\n",
        "3. **Data Control Language (DCL):** These commands are used to control access to the database, including granting and revoking privileges to users and roles. Examples include GRANT and REVOKE.\n",
        "\n",
        "4. **Transaction Control Language (TCL):** These commands are used to manage transactions, which are sets of operations that must be performed together as a single, atomic unit. Examples include COMMIT and ROLLBACK."
      ],
      "metadata": {
        "id": "A5bO2lZ0gVzw"
      }
    },
    {
      "cell_type": "markdown",
      "source": [
        "### 1.2.2 Tables in SQL\n"
      ],
      "metadata": {
        "id": "PZhQVS0xgkAK"
      }
    },
    {
      "cell_type": "markdown",
      "source": [
        "In a relational database, data is organized into tables. A table consists of rows and columns, with each row representing a single record and each column representing a field within that record. The structure of a table is defined by its columns, which specify the name, data type, and other characteristics of each field."
      ],
      "metadata": {
        "id": "qEt9u2Wkg7V5"
      }
    },
    {
      "cell_type": "markdown",
      "source": [
        "####  Common data types in SQL "
      ],
      "metadata": {
        "id": "bDxjlO9ii6J_"
      }
    },
    {
      "cell_type": "markdown",
      "source": [
        "\n",
        "\n",
        "1. **Numeric data types :** such as INT, DECIMAL, and FLOAT, for storing numerical data.\n",
        "\n",
        "2. **String data types :** such as VARCHAR and CHAR, for storing character strings.\n",
        "\n",
        "3. **Date and time data types :** such as DATE, TIME, and DATETIME, for storing date and time values.\n",
        "\n",
        "4. **Boolean data type :** such as BOOLEAN or BIT, for storing true/false values.\n",
        "\n",
        "5. **Binary data types :** such as BLOB and VARBINARY, for storing binary data.\n",
        "\n",
        "6. **XML data type:** for storing XML documents."
      ],
      "metadata": {
        "id": "DjbEPuBvg8r2"
      }
    },
    {
      "cell_type": "markdown",
      "source": [
        "####  Primary Key and Foreign Key"
      ],
      "metadata": {
        "id": "t-lPTcBEhqK5"
      }
    },
    {
      "cell_type": "markdown",
      "source": [
        "\n",
        "\n",
        "**Primary Key:**\n",
        "A primary key is a column or set of columns in a table that uniquely identifies each row of data. It is used to ensure data integrity and establish relationships with other tables in the database.\n",
        "\n",
        "> Example :- Table : Students\n",
        "\n",
        "  | StudentID | Name    | Age | Gender | Major   |\n",
        "  | --------- | ------- | --- | ------ | ------- |\n",
        "  | 1         | Alice   | 21  | Female | Biology |\n",
        "  | 2         | Bob     | 22  | Male   | History |\n",
        "  | 3         | Charlie | 20  | Male   | English |\n",
        "\n",
        "In this example, the \"StudentID\" column serves as the primary key, ensuring that each row has a unique ID number.\n",
        "\n",
        "**Foreign Key:**\n",
        "A foreign key is a column or set of columns in a table that references the primary key of another table. This establishes a relationship between the two tables, allowing data to be linked between them.\n",
        "\n",
        "> Example :- Table : Enrollments\n",
        "\n",
        "  | EnrollmentID | StudentID | Course   |\n",
        "  | ------------ | --------- | -------- |\n",
        "  | 1            | 1         | Biology 101 |\n",
        "  | 2            | 2         | History 101 |\n",
        "  | 3            | 3         | English 101 |\n",
        "  | 4            | 1         | Chemistry 101 |\n",
        "\n",
        "In this example, the \"StudentID\" column in the \"Enrollments\" table serves as a foreign key, referencing the primary key in the \"Students\" table. This allows the \"Enrollments\" table to link each enrollment with the corresponding student from the \"Students\" table.\n",
        "\n"
      ],
      "metadata": {
        "id": "FceduQdmi-jA"
      }
    },
    {
      "cell_type": "markdown",
      "source": [
        "### 1.2.3 Integrity Constraints in SQL"
      ],
      "metadata": {
        "id": "tNokt5UAjg38"
      }
    },
    {
      "cell_type": "markdown",
      "source": [
        "1. **Key Constraints:**\n",
        "Key constraints are used to ensure that each row in a table can be uniquely identified by a specific column or set of columns, known as the key. In SQL, there are two types of key constraints:\n",
        "\n",
        "  > - **Primary Key Constraint:** This is a key constraint that specifies the.primary key of a table, which must be unique for each row and cannot be NULL.\n",
        "  > - **Unique Key Constraint:** This is a key constraint that specifies a unique key for a table, which must be unique for each row but can be NULL.\n",
        "\n",
        "2. **Domain Constraints:**\n",
        "Domain constraints are used to ensure that the data in a specific column of a table adheres to a specific data type or format. In SQL, there are several types of domain constraints, including:\n",
        "\n",
        "  >  - **NOT NULL Constraint:** Ensures that a column cannot have a NULL value.\n",
        "  >  - **CHECK Constraint:** Ensures that the values in a column meet a specified condition.\n",
        "  >  - **DEFAULT Constraint:** Sets a default value for a column if no value is provided.\n",
        "\n",
        "3. **Referential Integrity Constraints:**\n",
        "Referential integrity constraints are used to maintain the consistency and accuracy of data between related tables. In SQL, the most common referential integrity constraint is the **foreign key constraint**, which ensures that a column in one table references a primary key in another table. If a value in the foreign key column does not match a value in the primary key column, the constraint will prevent the operation from being executed or take appropriate actions, such as cascading updates or deletes.\n"
      ],
      "metadata": {
        "id": "90aXP-qlj-nh"
      }
    },
    {
      "cell_type": "markdown",
      "source": [
        "### 1.2.4 Constraints in mySQL"
      ],
      "metadata": {
        "id": "sfs5OcGdkUX4"
      }
    },
    {
      "cell_type": "markdown",
      "source": [
        "\n",
        "| Constraint | Description | Syntax |\n",
        "| --- | --- | --- |\n",
        "| PRIMARY KEY | A column or combination of columns that uniquely identifies each row in a table. The values in the column(s) must be unique and cannot be NULL. | `PRIMARY KEY (column_name)` |\n",
        "| FOREIGN KEY | A column or combination of columns that refers to the primary key of another table. It ensures referential integrity between tables by requiring that the values in the foreign key column(s) must exist in the referenced table's primary key column(s). | `FOREIGN KEY (column_name) REFERENCES table_name(primary_key_column_name)` |\n",
        "| UNIQUE | A constraint that ensures that the values in a column or combination of columns are unique, but allows NULL values. | `UNIQUE (column_name)` |\n",
        "| NOT NULL | A constraint that ensures that a column cannot have NULL values. | `column_name data_type NOT NULL` |\n",
        "| CHECK | A constraint that specifies a condition that must be true for the row to be inserted or updated. | `CHECK (condition)` |\n",
        "| DEFAULT | A constraint that sets a default value for a column if no value is specified. | `column_name data_type DEFAULT default_value` |\n",
        "| INDEX | A data structure that improves the speed of data retrieval operations on a table by allowing quick access to specific rows. | `INDEX (column_name)` or `INDEX index_name (column_name)` |\n",
        "| FULLTEXT | An index type that enables full-text searches for words and phrases in a text column. | `FULLTEXT (column_name)` |\n",
        "| UNIQUE INDEX | A combination of the unique and index constraints, it ensures that the values in a column or combination of columns are unique and creates an index for faster data retrieval. | `UNIQUE INDEX (column_name)` or `UNIQUE INDEX index_name (column_name)` |\n",
        "| PRIMARY KEY INDEX | A combination of the primary key and index constraints, it creates an index for faster data retrieval and ensures that the values in a column or combination of columns are unique and cannot be NULL. | `PRIMARY KEY INDEX (column_name)` or `PRIMARY KEY INDEX index_name (column_name)` |\n",
        "| FOREIGN KEY INDEX | A combination of the foreign key and index constraints, it creates an index for faster data retrieval and ensures referential integrity between tables by requiring that the values in the foreign key column(s) must exist in the referenced table's primary key column(s). | `FOREIGN KEY INDEX (column_name) REFERENCES table_name(primary_key_column_name)` or `FOREIGN KEY INDEX index_name (column_name) REFERENCES table_name(primary_key_column_name)` |\n",
        "\n",
        "\n",
        "\n",
        "Examples :\n",
        "\n",
        "```\n",
        "CREATE TABLE customers (\n",
        "   customer_id INT NOT NULL PRIMARY KEY,\n",
        "   first_name VARCHAR(50) NOT NULL,\n",
        "   last_name VARCHAR(50) NOT NULL,\n",
        "   email VARCHAR(50) UNIQUE,\n",
        "   address VARCHAR(100),\n",
        "   phone_number VARCHAR(20),\n",
        "   age INT CHECK (age >= 18),\n",
        "   registration_date DATE DEFAULT CURDATE(),\n",
        "   INDEX (last_name)\n",
        ");\n",
        "\n",
        "CREATE TABLE orders (\n",
        "   order_id INT NOT NULL PRIMARY KEY,\n",
        "   customer_id INT NOT NULL,\n",
        "   order_date DATE NOT NULL,\n",
        "   total_price DECIMAL(10,2) NOT NULL,\n",
        "   FOREIGN KEY (customer_id) REFERENCES customers(customer_id),\n",
        "   INDEX (order_date)\n",
        ");\n",
        "```\n",
        "\n"
      ],
      "metadata": {
        "id": "OJzlD5eNkYiy"
      }
    },
    {
      "cell_type": "markdown",
      "source": [
        "When using multiple constraints in SQL:\n",
        "\n",
        "1. **Choose the right constraint for the job:** There are several types of constraints available in SQL, such as primary key, unique, foreign key, and check constraints. Each has a specific purpose and should be used appropriately. For example, use a primary key constraint to ensure a unique identifier for a table, use a foreign key constraint to enforce referential integrity between tables, and use a check constraint to validate data based on a specific condition.\n",
        "\n",
        "2. **Keep constraints simple:** While it is possible to combine multiple constraints in SQL, it's important to keep them as simple as possible to ensure that they are easy to understand and maintain. This means avoiding overly complex constraints that are difficult to read or modify, and sticking to simple combinations of basic constraints, such as NOT NULL and UNIQUE.\n",
        "\n",
        "3. **Consider performance implications:** When using multiple constraints in SQL, it's important to consider the potential performance implications. Constraints can slow down queries and other operations, particularly when working with large datasets. It's important to test constraints thoroughly to ensure that they are not having a negative impact on performance.\n",
        "\n",
        "4. **Use appropriate indexing:** To help improve performance when using multiple constraints in SQL, it's important to use appropriate indexing. Indexes can help to speed up queries and other operations by allowing the database to quickly locate specific data. Consider creating indexes on columns that are frequently used in constraints to improve query performance.\n",
        "\n",
        "5. **Test thoroughly:** Finally, when using multiple constraints in SQL, it's important to test them thoroughly to ensure that they are working as intended. This means testing constraints in a variety of scenarios, such as inserting, updating, and deleting data, to ensure that they are enforcing data integrity correctly. Regular testing can help to identify issues and ensure that constraints remain effective and efficient over time.\n"
      ],
      "metadata": {
        "id": "ediQIA0Gku4A"
      }
    },
    {
      "cell_type": "markdown",
      "source": [
        "## 1.3 SQL Data Types"
      ],
      "metadata": {
        "id": "yg-FGtRwbMTi"
      }
    },
    {
      "cell_type": "markdown",
      "source": [
        "### 1.3.1 Numerical Data"
      ],
      "metadata": {
        "id": "MUJh2umVbSjP"
      }
    },
    {
      "cell_type": "markdown",
      "source": [
        "\n",
        "\n",
        "| Data Type | Description | Range of Values | Storage Size | Applicable Keywords |\n",
        "| --- | --- | --- | --- | --- |\n",
        "| TINYINT | A very small integer | -128 to 127 (signed) or 0 to 255 (unsigned) | 1 byte | TINYINT, TINYINT(n), BOOLEAN |\n",
        "| SMALLINT | A small integer | -32,768 to 32,767 (signed) or 0 to 65,535 (unsigned) | 2 bytes | SMALLINT, SMALLINT(n), INT2 |\n",
        "| MEDIUMINT | A medium-sized integer | -8,388,608 to 8,388,607 (signed) or 0 to 16,777,215 (unsigned) | 3 bytes | MEDIUMINT, MEDIUMINT(n) |\n",
        "| INT or INTEGER | A standard integer | -2,147,483,648 to 2,147,483,647 (signed) or 0 to 4,294,967,295 (unsigned) | 4 bytes | INT, INTEGER, INT4 |\n",
        "| BIGINT | A large integer | -9,223,372,036,854,775,808 to 9,223,372,036,854,775,807 (signed) or 0 to 18,446,744,073,709,551,615 (unsigned) | 8 bytes | BIGINT, BIGINT(n), INT8 |\n",
        "| FLOAT | A single-precision floating-point number | -3.40282347E+38 to -1.17549435E-38, 0, and 1.17549435E-38 to 3.40282347E+38 | 4 bytes | FLOAT(p) |\n",
        "| DOUBLE or REAL | A double-precision floating-point number | -1.7976931348623157E+308 to -2.2250738585072014E-308, 0, and 2.2250738585072014E-308 to 1.7976931348623157E+308 | 8 bytes | DOUBLE, DOUBLE PRECISION, REAL(p) |\n",
        "| DECIMAL or NUMERIC | A fixed-point decimal number | -10^38 +1 to 10^38 -1 | Varies (up to 65 bytes) | DECIMAL(p,s), NUMERIC(p,s) |\n",
        "\n",
        "Note that the `(n)` and `(p,s)` in the Applicable Keywords column indicate that can specify a custom length or precision and scale, respectively, for the data type. The actual range of values and storage size may depend on the specific length or precision and scale you specify."
      ],
      "metadata": {
        "id": "zwN2yG_YiysS"
      }
    },
    {
      "cell_type": "markdown",
      "source": [
        "### 1.3.2 String Data types"
      ],
      "metadata": {
        "id": "zaGcfkGhjIsi"
      }
    },
    {
      "cell_type": "markdown",
      "source": [
        "\n",
        "\n",
        "| Data Type | Description | Maximum Length | Applicable Keywords |\n",
        "| --- | --- | --- | --- |\n",
        "| CHAR | A fixed-length character string | Up to 255 characters | CHAR(n) |\n",
        "| VARCHAR | A variable-length character string | Up to 65,535 characters | VARCHAR(n) |\n",
        "| TINYTEXT | A small variable-length text string | Up to 255 characters | TINYTEXT |\n",
        "| TEXT | A medium-sized variable-length text string | Up to 65,535 characters | TEXT |\n",
        "| MEDIUMTEXT | A large variable-length text string | Up to 16,777,215 characters | MEDIUMTEXT |\n",
        "| LONGTEXT | A very large variable-length text string | Up to 4,294,967,295 characters | LONGTEXT |\n",
        "| BINARY | A fixed-length binary string | Up to 255 bytes | BINARY(n) |\n",
        "| VARBINARY | A variable-length binary string | Up to 65,535 bytes | VARBINARY(n) |\n",
        "| TINYBLOB | A small variable-length binary string | Up to 255 bytes | TINYBLOB |\n",
        "| BLOB | A medium-sized variable-length binary string | Up to 65,535 bytes | BLOB |\n",
        "| MEDIUMBLOB | A large variable-length binary string | Up to 16,777,215 bytes | MEDIUMBLOB |\n",
        "| LONGBLOB | A very large variable-length binary string | Up to 4,294,967,295 bytes | LONGBLOB |\n",
        "\n",
        "Note that the `(n)` in the Applicable Keywords column indicate that  can specify a custom length for the data type. The actual maximum length may depend on the specific length you specify."
      ],
      "metadata": {
        "id": "EiSGDZPEjLiJ"
      }
    },
    {
      "cell_type": "markdown",
      "source": [
        "## 1.4 Syntax"
      ],
      "metadata": {
        "id": "sKm7rJs2cR_-"
      }
    },
    {
      "cell_type": "markdown",
      "source": [
        "### 1.4.1 Creating a Database"
      ],
      "metadata": {
        "id": "oCbL8bN5cX_l"
      }
    },
    {
      "cell_type": "markdown",
      "source": [
        "To create a database in MySQL :\n",
        "\n",
        "```\n",
        "CREATE DATABASE database_name;\n",
        "```\n",
        "\n",
        "\n",
        "It's important to note that need to have the proper permissions to create a database. Use the `USE` command to start working with it:\n",
        "\n",
        "```\n",
        "USE mydatabase;\n",
        "```\n",
        "\n",
        "This command tells MySQL to use the \"mydatabase\" database for any subsequent commands until you switch to another database or exit MySQL."
      ],
      "metadata": {
        "id": "ETUfl-t9ce1f"
      }
    },
    {
      "cell_type": "markdown",
      "source": [
        "### 1.4.2 Create Tables "
      ],
      "metadata": {
        "id": "lt95RKqpdQti"
      }
    },
    {
      "cell_type": "markdown",
      "source": [
        "To create a table in MySQL:\n",
        "\n",
        "```\n",
        "CREATE TABLE table_name (\n",
        "   column1 datatype,\n",
        "   column2 datatype,\n",
        "   column3 datatype,\n",
        "   .....\n",
        ");\n",
        "```\n"
      ],
      "metadata": {
        "id": "Tt_dt-DIf419"
      }
    },
    {
      "cell_type": "markdown",
      "source": [
        "### 1.4.3 View The Tables"
      ],
      "metadata": {
        "id": "zLDU6CHzgZFr"
      }
    },
    {
      "cell_type": "markdown",
      "source": [
        "To view the tables:\n",
        "\n",
        "```\n",
        "SHOW TABLES;\n",
        "```\n",
        "\n",
        "This command will return a list of all the tables in the currently selected database. \n",
        "For example, if you want to view the tables in a database named \"mydatabase\", you would use the following commands:\n",
        "\n",
        "To view the columns of a table in MySQL:\n",
        "\n",
        "```\n",
        "SHOW COLUMNS FROM table_name;\n",
        "```\n",
        "\n",
        "To see more information about a specific table, can use the `DESCRIBE` or `EXPLAIN` command followed by the name of the table:\n",
        "\n",
        "```\n",
        "DESCRIBE table_name;\n",
        "```\n",
        "\n",
        "This command will show you the structure of the specified table, including the names and data types of the columns. \n",
        "\n",
        "Using the  `DESCRIBE` command to view the structure of a table, which includes information about the columns as well as any indexes, keys, or constraints that have been defined for the table:\n",
        "\n",
        "```\n",
        "DESCRIBE table_name;\n",
        "```\n",
        "\n",
        "This will show you the same information as the `SHOW COLUMNS` command, as well as any additional information about the table's structure.\n"
      ],
      "metadata": {
        "id": "c5U_E-XBge18"
      }
    },
    {
      "cell_type": "markdown",
      "source": [
        "### 1.4.4 Default Values in mySQL "
      ],
      "metadata": {
        "id": "15KCFbDg7tJN"
      }
    },
    {
      "cell_type": "markdown",
      "source": [
        "\n",
        "\n",
        "In MySQL, default values are used to provide a predefined value for a column if no value is explicitly specified during the insertion of a new row into the table. Default values are also used when a column is added to an existing table and the column needs to be assigned a default value for all existing rows.\n",
        "\n",
        "Some important things to know about default values in MySQL:\n",
        "\n",
        "1. Default values can be assigned to any column in a table, except for columns that are part of the PRIMARY KEY or a UNIQUE constraint.\n",
        "\n",
        "2. The default value can be specified at the time of table creation, or when a new column is added to an existing table using the ALTER TABLE statement.\n",
        "\n",
        "3. The default value can be a literal value such as a string, number, or date, or it can be a system function that generates a value such as CURRENT_TIMESTAMP.\n",
        "\n",
        "4. If a column with a default value is not included in the INSERT statement, MySQL will automatically insert the default value into the column.\n",
        "\n",
        "5. If a column with a default value is included in the INSERT statement with a NULL value, MySQL will insert the default value into the column instead of the NULL value.\n",
        "\n",
        "6. When a default value is assigned to a column, it is stored in the table definition and not with individual rows of data.\n",
        "\n",
        "7. If a default value is changed using ALTER TABLE, the new default value will only apply to new rows added to the table. Existing rows will retain their original default value.\n",
        "\n",
        "8. Default values can be overridden by explicitly specifying a value for the column in the INSERT statement.\n",
        "\n",
        "9. If a default value is assigned to a column and the column is subsequently dropped from the table, the default value is also removed from the table definition.\n",
        "\n",
        "\n",
        "\n",
        "In MySQL, \n",
        "\n",
        "1. **Specifying default values when creating a new table:**\n",
        "\n",
        "When creating a new table, can specify default values for columns using the DEFAULT keyword followed by the value want to set as the default. \n",
        "\n",
        "```\n",
        "CREATE TABLE my_table (\n",
        "   id INT NOT NULL,\n",
        "   name VARCHAR(50) DEFAULT 'John',\n",
        "   age INT DEFAULT 30\n",
        ");\n",
        "```\n",
        "\n",
        "\n",
        "2. **Specifying default values when adding a new column to an existing table:**\n",
        "\n",
        "When adding a new column to an existing table, can specify the default value using the ALTER TABLE statement.\n",
        "\n",
        "```\n",
        "ALTER TABLE my_table ADD COLUMN address VARCHAR(100) DEFAULT 'Unknown';\n",
        "```\n",
        "3. To modify the default value of an existing column using ALTER TABLE with the MODIFY COLUMN option.\n",
        "\n",
        "```\n",
        "ALTER TABLE my_table MODIFY COLUMN age INT DEFAULT 35;\n",
        "```\n",
        "\n",
        "\n",
        "\n",
        "Note that default values can be specified for any column type **except for the BLOB, TEXT, and JSON data types**. Additionally, the DEFAULT keyword is not used when specifying default values for **ENUM and SET columns**. Instead, the default value is specified as one of the values in the ENUM or SET list."
      ],
      "metadata": {
        "id": "43Xw3YZU7yBC"
      }
    }
  ]
}