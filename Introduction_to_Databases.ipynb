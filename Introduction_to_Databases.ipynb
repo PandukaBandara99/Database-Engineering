{
  "nbformat": 4,
  "nbformat_minor": 0,
  "metadata": {
    "colab": {
      "provenance": [],
      "toc_visible": true,
      "authorship_tag": "ABX9TyNiWpcc0CA6kNZEj5SI/7D4",
      "include_colab_link": true
    },
    "kernelspec": {
      "name": "python3",
      "display_name": "Python 3"
    },
    "language_info": {
      "name": "python"
    }
  },
  "cells": [
    {
      "cell_type": "markdown",
      "metadata": {
        "id": "view-in-github",
        "colab_type": "text"
      },
      "source": [
        "<a href=\"https://colab.research.google.com/github/PandukaBandara99/Database-Engineering/blob/main/Introduction_to_Databases.ipynb\" target=\"_parent\"><img src=\"https://colab.research.google.com/assets/colab-badge.svg\" alt=\"Open In Colab\"/></a>"
      ]
    },
    {
      "cell_type": "markdown",
      "source": [
        "Mahela Panduka Bandara ; <br> UG @ Dpt. of Electronic & Electrical Engineering ;<br> University of Peradeniya ;<br> 2023/05 <br><br> Email : e19039@end.pdn.ac.lk <br> LinkedIN : https://www.linkedin.com/in/pandukabandara/"
      ],
      "metadata": {
        "id": "lKXVALiHeBdg"
      }
    },
    {
      "cell_type": "markdown",
      "source": [
        "References : \n",
        "1. https://www.coursera.org/professional-certificates/meta-database-engineer"
      ],
      "metadata": {
        "id": "zoB4tumseC-a"
      }
    },
    {
      "cell_type": "markdown",
      "source": [
        "# 1.0 Introduction to Databases"
      ],
      "metadata": {
        "id": "ocsnAcVteLg2"
      }
    },
    {
      "cell_type": "markdown",
      "source": [
        "## 1.1 Databases"
      ],
      "metadata": {
        "id": "EiyiemnMfBh-"
      }
    },
    {
      "cell_type": "markdown",
      "source": [
        "Databases store and organize large amounts of information, using a variety of structures and models such as relational, NoSQL, object-oriented, hierarchical, and network.\n",
        "Types of databases:\n",
        "1. **Relational databases:** These databases store data in tables with rows and columns. They use a structured query language (SQL) to manage and manipulate data. Examples of relational databases include MySQL, Oracle, and PostgreSQL.\n",
        "\n",
        "2. **NoSQL databases:** These databases use a non-relational data model, which means they don't use tables, rows, and columns. Instead, they use a variety of data models, such as document, key-value, and graph. Examples of NoSQL databases include MongoDB, Cassandra, and Redis.\n",
        "\n",
        "3. **Object-oriented databases:** These databases are designed to work with object-oriented programming languages, such as Java and C++. They store data in objects, which are similar to the objects used in programming. Examples of object-oriented databases include db4o and ObjectDB.\n",
        "\n",
        "4. **Hierarchical databases:** These databases organize data in a tree-like structure, with each record having one parent and possibly many children. They're often used for storing information about organizational structures or file systems. Examples of hierarchical databases include IBM's Information Management System (IMS) and the Windows Registry.\n",
        "\n",
        "5. **Network databases:** These databases are similar to hierarchical databases, but they allow each record to have multiple parents and children, forming a network of relationships. They're often used for modeling complex relationships between entities. Examples of network databases include Integrated Data Store (IDS) and CA-IDMS."
      ],
      "metadata": {
        "id": "PPDHw_nFfDui"
      }
    },
    {
      "cell_type": "markdown",
      "source": [
        "## 1.2 Introduction To SQL"
      ],
      "metadata": {
        "id": "Pn0qYp-_fdDX"
      }
    },
    {
      "cell_type": "markdown",
      "source": [
        "**Structured Query Language (SQL)** is a programming language used to manage and manipulate relational databases."
      ],
      "metadata": {
        "id": "u_yuD6xif76u"
      }
    },
    {
      "cell_type": "markdown",
      "source": [
        "### 1.2.1  SQL Commands"
      ],
      "metadata": {
        "id": "wO_f4Fn3f-R1"
      }
    },
    {
      "cell_type": "markdown",
      "source": [
        "In SQL (Structured Query Language), there are four main types of commands:\n",
        "\n",
        "1. **Data Definition Language (DDL):** These commands are used to define the structure of the database, including creating, altering, and deleting tables and other objects. Examples include CREATE, ALTER, and DROP.\n",
        "\n",
        "2. **Data Manipulation Language (DML):** These commands are used to manipulate data within the database, including inserting, updating, and deleting data. Examples include INSERT, UPDATE, and DELETE.\n",
        "\n",
        "3. **Data Control Language (DCL):** These commands are used to control access to the database, including granting and revoking privileges to users and roles. Examples include GRANT and REVOKE.\n",
        "\n",
        "4. **Transaction Control Language (TCL):** These commands are used to manage transactions, which are sets of operations that must be performed together as a single, atomic unit. Examples include COMMIT and ROLLBACK."
      ],
      "metadata": {
        "id": "A5bO2lZ0gVzw"
      }
    },
    {
      "cell_type": "markdown",
      "source": [
        "### 1.2.2 Tables in SQL\n"
      ],
      "metadata": {
        "id": "PZhQVS0xgkAK"
      }
    },
    {
      "cell_type": "markdown",
      "source": [
        "In a relational database, data is organized into tables. A table consists of rows and columns, with each row representing a single record and each column representing a field within that record. The structure of a table is defined by its columns, which specify the name, data type, and other characteristics of each field."
      ],
      "metadata": {
        "id": "qEt9u2Wkg7V5"
      }
    },
    {
      "cell_type": "markdown",
      "source": [
        "####  Common data types in SQL "
      ],
      "metadata": {
        "id": "bDxjlO9ii6J_"
      }
    },
    {
      "cell_type": "markdown",
      "source": [
        "\n",
        "\n",
        "1. **Numeric data types :** such as INT, DECIMAL, and FLOAT, for storing numerical data.\n",
        "\n",
        "2. **String data types :** such as VARCHAR and CHAR, for storing character strings.\n",
        "\n",
        "3. **Date and time data types :** such as DATE, TIME, and DATETIME, for storing date and time values.\n",
        "\n",
        "4. **Boolean data type :** such as BOOLEAN or BIT, for storing true/false values.\n",
        "\n",
        "5. **Binary data types :** such as BLOB and VARBINARY, for storing binary data.\n",
        "\n",
        "6. **XML data type:** for storing XML documents."
      ],
      "metadata": {
        "id": "DjbEPuBvg8r2"
      }
    },
    {
      "cell_type": "markdown",
      "source": [
        "####  Primary Key and Foreign Key"
      ],
      "metadata": {
        "id": "t-lPTcBEhqK5"
      }
    },
    {
      "cell_type": "markdown",
      "source": [
        "\n",
        "\n",
        "**Primary Key:**\n",
        "A primary key is a column or set of columns in a table that uniquely identifies each row of data. It is used to ensure data integrity and establish relationships with other tables in the database.\n",
        "\n",
        "> Example :- Table : Students\n",
        "\n",
        "  | StudentID | Name    | Age | Gender | Major   |\n",
        "  | --------- | ------- | --- | ------ | ------- |\n",
        "  | 1         | Alice   | 21  | Female | Biology |\n",
        "  | 2         | Bob     | 22  | Male   | History |\n",
        "  | 3         | Charlie | 20  | Male   | English |\n",
        "\n",
        "In this example, the \"StudentID\" column serves as the primary key, ensuring that each row has a unique ID number.\n",
        "\n",
        "**Foreign Key:**\n",
        "A foreign key is a column or set of columns in a table that references the primary key of another table. This establishes a relationship between the two tables, allowing data to be linked between them.\n",
        "\n",
        "> Example :- Table : Enrollments\n",
        "\n",
        "  | EnrollmentID | StudentID | Course   |\n",
        "  | ------------ | --------- | -------- |\n",
        "  | 1            | 1         | Biology 101 |\n",
        "  | 2            | 2         | History 101 |\n",
        "  | 3            | 3         | English 101 |\n",
        "  | 4            | 1         | Chemistry 101 |\n",
        "\n",
        "In this example, the \"StudentID\" column in the \"Enrollments\" table serves as a foreign key, referencing the primary key in the \"Students\" table. This allows the \"Enrollments\" table to link each enrollment with the corresponding student from the \"Students\" table.\n",
        "\n"
      ],
      "metadata": {
        "id": "FceduQdmi-jA"
      }
    },
    {
      "cell_type": "markdown",
      "source": [
        "### 1.2.3 Integrity Constraints in SQL"
      ],
      "metadata": {
        "id": "tNokt5UAjg38"
      }
    },
    {
      "cell_type": "markdown",
      "source": [
        "1. **Key Constraints:**\n",
        "Key constraints are used to ensure that each row in a table can be uniquely identified by a specific column or set of columns, known as the key. In SQL, there are two types of key constraints:\n",
        "\n",
        "  > - **Primary Key Constraint:** This is a key constraint that specifies the.primary key of a table, which must be unique for each row and cannot be NULL.\n",
        "  > - **Unique Key Constraint:** This is a key constraint that specifies a unique key for a table, which must be unique for each row but can be NULL.\n",
        "\n",
        "2. **Domain Constraints:**\n",
        "Domain constraints are used to ensure that the data in a specific column of a table adheres to a specific data type or format. In SQL, there are several types of domain constraints, including:\n",
        "\n",
        "  >  - **NOT NULL Constraint:** Ensures that a column cannot have a NULL value.\n",
        "  >  - **CHECK Constraint:** Ensures that the values in a column meet a specified condition.\n",
        "  >  - **DEFAULT Constraint:** Sets a default value for a column if no value is provided.\n",
        "\n",
        "3. **Referential Integrity Constraints:**\n",
        "Referential integrity constraints are used to maintain the consistency and accuracy of data between related tables. In SQL, the most common referential integrity constraint is the **foreign key constraint**, which ensures that a column in one table references a primary key in another table. If a value in the foreign key column does not match a value in the primary key column, the constraint will prevent the operation from being executed or take appropriate actions, such as cascading updates or deletes.\n"
      ],
      "metadata": {
        "id": "90aXP-qlj-nh"
      }
    }
  ]
}