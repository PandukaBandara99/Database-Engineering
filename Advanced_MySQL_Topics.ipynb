{
  "nbformat": 4,
  "nbformat_minor": 0,
  "metadata": {
    "colab": {
      "provenance": [],
      "toc_visible": true,
      "authorship_tag": "ABX9TyObljY3ecTjAkvY+YQIt7z6",
      "include_colab_link": true
    },
    "kernelspec": {
      "name": "python3",
      "display_name": "Python 3"
    },
    "language_info": {
      "name": "python"
    }
  },
  "cells": [
    {
      "cell_type": "markdown",
      "metadata": {
        "id": "view-in-github",
        "colab_type": "text"
      },
      "source": [
        "<a href=\"https://colab.research.google.com/github/PandukaBandara99/Database-Engineering/blob/main/Advanced_MySQL_Topics.ipynb\" target=\"_parent\"><img src=\"https://colab.research.google.com/assets/colab-badge.svg\" alt=\"Open In Colab\"/></a>"
      ]
    },
    {
      "cell_type": "markdown",
      "source": [
        "Mahela Panduka Bandara ; <br> UG @ Dpt. of Electronic & Electrical Engineering ;<br> University of Peradeniya ;<br> 2024/03 <br><br> Email : e19039@end.pdn.ac.lk <br> LinkedIN : https://www.linkedin.com/in/pandukabandara/"
      ],
      "metadata": {
        "id": "X2P23yfkyXvt"
      }
    },
    {
      "cell_type": "markdown",
      "source": [
        "# **1.0 Functions and More Complex Stored Procedures in MySQL**"
      ],
      "metadata": {
        "id": "1y4ntzHmyrvc"
      }
    },
    {
      "cell_type": "markdown",
      "source": [
        "## 1.1 Functions vs Procedures"
      ],
      "metadata": {
        "id": "QY_C_qaGy3PX"
      }
    },
    {
      "cell_type": "markdown",
      "source": [
        "| Aspect              | Functions                                    | Procedures                                       |\n",
        "|---------------------|----------------------------------------------|--------------------------------------------------|\n",
        "| Return Value        | Must return a value.                         | May or may not return a value.                   |\n",
        "| Usage               | Typically used for computations and data manipulation. | Used for executing a series of actions or operations. |\n",
        "| Call               | Invoked by their name and parameters.        | Invoked by their name and parameters.           |\n",
        "| Parameters          | Can have input parameters and optionally output parameters. | Can have input and output parameters.            |\n",
        "| State               | Generally, functions maintain a stateless behavior. | Procedures can have stateful behavior.           |\n",
        "| Reusability         | Highly reusable as they can be called from multiple places. | Not as reusable since they often perform specific tasks. |\n",
        "| Invocation          | Can be used within expressions and assignments. | Cannot be used within expressions.              |\n",
        "| Return Statement    | Must have a return statement specifying the return value. | No explicit return statement is required.        |\n",
        "| Example (PL/SQL)    | ```sql CREATE FUNCTION calculate_area(length NUMBER, width NUMBER) RETURN NUMBER IS area NUMBER; BEGIN area := length * width; RETURN area; END;``` | ```sql CREATE PROCEDURE insert_record(name VARCHAR2, age NUMBER) IS BEGIN INSERT INTO employee_table(name, age) VALUES(name, age); END;``` |\n"
      ],
      "metadata": {
        "id": "3JjvsyGA0bqr"
      }
    },
    {
      "cell_type": "markdown",
      "source": [
        "## 1.2 Declaring Variables"
      ],
      "metadata": {
        "id": "TIxe5Zpl0fW6"
      }
    },
    {
      "cell_type": "markdown",
      "source": [
        "Variables used to pass values between SQL statements or between a procedure and a SQL statement."
      ],
      "metadata": {
        "id": "MEM2BpPu-PYA"
      }
    },
    {
      "cell_type": "markdown",
      "source": [
        "Can create\n",
        "- Inside or outside of a stored procedure\n",
        "- Inside or outside of a SELECT statement."
      ],
      "metadata": {
        "id": "UDjXJIyb-ZMq"
      }
    },
    {
      "cell_type": "markdown",
      "source": [
        "### SET - Outside the stored procedure"
      ],
      "metadata": {
        "id": "jszHSkll-tBi"
      }
    },
    {
      "cell_type": "markdown",
      "source": [
        "Syntax: ```SET @variable_name = value;```"
      ],
      "metadata": {
        "id": "_aq-bgQ5-4F7"
      }
    },
    {
      "cell_type": "markdown",
      "source": [
        "Example : <br>\n",
        "```sql\n",
        "SET @order_id = 3;\n",
        "SELECT * FROM Orders WHERE Order_ID = @order_id\n",
        "```"
      ],
      "metadata": {
        "id": "1WqG_9Mc_BFf"
      }
    },
    {
      "cell_type": "markdown",
      "source": [
        "### DECLARE - Inside the stored procedure"
      ],
      "metadata": {
        "id": "xAv3SKNv_XPD"
      }
    },
    {
      "cell_type": "markdown",
      "source": [
        "Syntax: ```DECLARE variable_name DATATYPE DEFAULT VALUE;```"
      ],
      "metadata": {
        "id": "yOmAShZo_gvO"
      }
    },
    {
      "cell_type": "markdown",
      "source": [
        "Example <br>\n",
        "```sql\n",
        "DECLARE minimum_order_cost DECIMAL(5,2) DEFAULT 0;\n",
        "```"
      ],
      "metadata": {
        "id": "hIqDmaIJ_rz8"
      }
    },
    {
      "cell_type": "markdown",
      "source": [
        "### ASSIGNMENT Operator - Inside SELECT Command"
      ],
      "metadata": {
        "id": "WcUZ6hzi_9ZR"
      }
    },
    {
      "cell_type": "markdown",
      "source": [
        "Syntax :  ```SELECT @variable_name := value```"
      ],
      "metadata": {
        "id": "spiXsZWxACKe"
      }
    },
    {
      "cell_type": "markdown",
      "source": [
        "Example:<br>\n",
        "```sql\n",
        "SELECT @max_order := MAX(Cost) FROM Orders;\n",
        "SELECT @max_order;\n",
        "```"
      ],
      "metadata": {
        "id": "TrjI7-iQAJZr"
      }
    },
    {
      "cell_type": "markdown",
      "source": [
        "### Variable Inside SELECT Command"
      ],
      "metadata": {
        "id": "TKoHTmb4Ab-8"
      }
    },
    {
      "cell_type": "markdown",
      "source": [
        "Syntax : ``` SELECT function() INTO variable_name FROM table_name;```"
      ],
      "metadata": {
        "id": "LsQCybscAfWp"
      }
    },
    {
      "cell_type": "markdown",
      "source": [
        "Example:<br>\n",
        "```sql\n",
        "SELECT AVG(Cost) INTO @average_cost FROM Orders;\n",
        "```"
      ],
      "metadata": {
        "id": "VqyTtQqlAmpJ"
      }
    },
    {
      "cell_type": "markdown",
      "source": [
        "## 1.3 Parameters"
      ],
      "metadata": {
        "id": "oAVOnK0aCjz5"
      }
    },
    {
      "cell_type": "markdown",
      "source": [
        "Parameters pass arguments or values to a function or procedure from outside."
      ],
      "metadata": {
        "id": "-NUV6RSJCsO6"
      }
    },
    {
      "cell_type": "markdown",
      "source": [
        "- In parameters\n",
        "- out parameters\n",
        "- in out parameters"
      ],
      "metadata": {
        "id": "7vQJf4lpC4Wv"
      }
    },
    {
      "cell_type": "markdown",
      "source": [
        "### IN parameter"
      ],
      "metadata": {
        "id": "HBbWIbPWC_wb"
      }
    },
    {
      "cell_type": "markdown",
      "source": [
        "Syntax: ```CREATE PROCEDURE procedure_name(IN logic(value1, value2)) SELECT logic;```"
      ],
      "metadata": {
        "id": "wZbCZ87QDBrN"
      }
    },
    {
      "cell_type": "markdown",
      "source": [
        "```sql\n",
        "CREATE PROCEDURE CalculateTax(IN Salary DECIMAL(10,2)) SELECT Salary *0.2 AS TAX;\n",
        "CALL CalculateTax(10000);\n",
        "```"
      ],
      "metadata": {
        "id": "U3tLnG0VDM-8"
      }
    },
    {
      "cell_type": "markdown",
      "source": [
        "### OUT parameter"
      ],
      "metadata": {
        "id": "htOuRbvyDptR"
      }
    },
    {
      "cell_type": "markdown",
      "source": [
        "Syntax:\n",
        "```sql\n",
        "CREATE PROCEDURE GetLowestCost(OUT LowestCost DECIMAL(6,2));\n",
        "SELECT MIN(Cost) INFO LowestCost FROM Orders;\n",
        "```"
      ],
      "metadata": {
        "id": "MmZT6aEPDui8"
      }
    },
    {
      "cell_type": "markdown",
      "source": [
        "### INOUT parameter"
      ],
      "metadata": {
        "id": "7VBR8yAGENKg"
      }
    },
    {
      "cell_type": "markdown",
      "source": [
        "Syntax:\n",
        "```sql\n",
        "CREATE PROCEDURE SquareAnumber(INOUT aNumber INT)\n",
        "BEGIN\n",
        "  set aNumber = aNumber*aNumber;\n",
        "END\n",
        "```"
      ],
      "metadata": {
        "id": "NTh5c7pQEQlZ"
      }
    },
    {
      "cell_type": "markdown",
      "source": [
        "```sql\n",
        "SET @x_number = 5\n",
        "CALL SquareAnumber (@x_number);\n",
        "```"
      ],
      "metadata": {
        "id": "r9wV17WLEocF"
      }
    },
    {
      "cell_type": "markdown",
      "source": [
        "## 1.4 User Defined Functions"
      ],
      "metadata": {
        "id": "PeCMbePjDev4"
      }
    },
    {
      "cell_type": "markdown",
      "source": [
        "Syntax <br>\n",
        "```sql\n",
        "CREATE FUNCTION function_name()\n",
        "RETURNS datatype DETERMINISTIC\n",
        "RETURN\n",
        "```"
      ],
      "metadata": {
        "id": "J1JFvgxODjxd"
      }
    },
    {
      "cell_type": "markdown",
      "source": [
        "Example: <br>\n",
        "```sql\n",
        "CREATE FUNCTION FindTotalCost(Cost DECIMAL(5,2))\n",
        "RETURNS DECIMAL (5,2) DETERMINISTIC\n",
        "RETURN (Cost - (Cost*0.1));\n",
        "```"
      ],
      "metadata": {
        "id": "4qp72Xx3ECgu"
      }
    },
    {
      "cell_type": "markdown",
      "source": [
        "```sql\n",
        "SELECT FindTotalCost(100)\n",
        "```"
      ],
      "metadata": {
        "id": "-JgzThaVEuKj"
      }
    },
    {
      "cell_type": "markdown",
      "source": [
        "Example: Apply 10% Discount Purchases  between 100$ and 500$ , 20% for purchases above 500$.<br>\n",
        "```sql\n",
        "CREATE FUNCTION FindTotalCost(Cost DECIMAL(5,2))\n",
        "RETURNS DECIMAL (5,2) DETERMINISTIC\n",
        "  BEGIN IF (Cost >= 100 AND Cost <500) THEN SET Cost  = Cost-(Cost*0.1);\n",
        "        ELSEIF (Cost >= 500) THEN SET Cost = Cost-(Cost*0.2);\n",
        "        END IF;\n",
        "RETURN Cost;\n",
        "```"
      ],
      "metadata": {
        "id": "CxRYd1DjE30u"
      }
    },
    {
      "cell_type": "markdown",
      "source": [
        "## 1.5 Complex Stored Procedures"
      ],
      "metadata": {
        "id": "JC96fFVxIm2g"
      }
    },
    {
      "cell_type": "markdown",
      "source": [
        "Consider <br>\n",
        "```sql\n",
        "+----+-------------+----------+------------+\n",
        "| id | name        | salary   | department |\n",
        "+----+-------------+----------+------------+\n",
        "| 1  | John Doe    | 50000.00 | Engineering|\n",
        "| 2  | Jane Smith  | 60000.00 | HR         |\n",
        "| 3  | Mike Johnson| 55000.00 | Marketing  |\n",
        "+----+-------------+----------+------------+\n",
        "```"
      ],
      "metadata": {
        "id": "Wa8yOP9YIqoi"
      }
    },
    {
      "cell_type": "markdown",
      "source": [
        "```sql\n",
        "DELIMITER //\n",
        "\n",
        "CREATE PROCEDURE update_salaries (IN dept VARCHAR(100), IN increase DECIMAL(5, 2))\n",
        "BEGIN\n",
        "    DECLARE done INT DEFAULT FALSE;\n",
        "    DECLARE emp_id INT;\n",
        "    DECLARE emp_salary DECIMAL(10, 2);\n",
        "    DECLARE emp_cursor CURSOR FOR\n",
        "        SELECT id, salary FROM employees WHERE department = dept;\n",
        "    DECLARE CONTINUE HANDLER FOR NOT FOUND SET done = TRUE;\n",
        "\n",
        "    OPEN emp_cursor;\n",
        "\n",
        "    emp_loop: LOOP\n",
        "        FETCH emp_cursor INTO emp_id, emp_salary;\n",
        "        IF done THEN\n",
        "            LEAVE emp_loop;\n",
        "        END IF;\n",
        "        \n",
        "        -- Update the salary of the employee\n",
        "        UPDATE employees SET salary = emp_salary * (1 + increase / 100)\n",
        "        WHERE id = emp_id;\n",
        "    END LOOP;\n",
        "\n",
        "    CLOSE emp_cursor;\n",
        "END//\n",
        "\n",
        "DELIMITER ;\n",
        "```"
      ],
      "metadata": {
        "id": "lM-OP7VwIp-X"
      }
    },
    {
      "cell_type": "markdown",
      "source": [
        "In this stored procedure:\n",
        "\n",
        "- We first declare some variables (done, emp_id, emp_salary) to use within the procedure.\n",
        "- We declare a cursor named emp_cursor that selects all employees from the specified department.\n",
        "- We define a continue handler for the cursor to set the done variable to true when there are no more rows to fetch.\n",
        "- We open the cursor and iterate over each employee using a loop.\n",
        "- Inside the loop, we fetch the employee ID and salary, then update the salary based on the given percentage increase for the department.\n",
        "- Finally, we close the cursor."
      ],
      "metadata": {
        "id": "9HmZD3mJfR4C"
      }
    }
  ]
}