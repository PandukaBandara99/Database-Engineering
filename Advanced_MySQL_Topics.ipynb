{
  "nbformat": 4,
  "nbformat_minor": 0,
  "metadata": {
    "colab": {
      "provenance": [],
      "toc_visible": true,
      "authorship_tag": "ABX9TyNN8LD1R3VxBwwvR8DTTnso",
      "include_colab_link": true
    },
    "kernelspec": {
      "name": "python3",
      "display_name": "Python 3"
    },
    "language_info": {
      "name": "python"
    }
  },
  "cells": [
    {
      "cell_type": "markdown",
      "metadata": {
        "id": "view-in-github",
        "colab_type": "text"
      },
      "source": [
        "<a href=\"https://colab.research.google.com/github/PandukaBandara99/Database-Engineering/blob/main/Advanced_MySQL_Topics.ipynb\" target=\"_parent\"><img src=\"https://colab.research.google.com/assets/colab-badge.svg\" alt=\"Open In Colab\"/></a>"
      ]
    },
    {
      "cell_type": "markdown",
      "source": [
        "Mahela Panduka Bandara ; <br> UG @ Dpt. of Electronic & Electrical Engineering ;<br> University of Peradeniya ;<br> 2024/03 <br><br> Email : e19039@end.pdn.ac.lk <br> LinkedIN : https://www.linkedin.com/in/pandukabandara/"
      ],
      "metadata": {
        "id": "X2P23yfkyXvt"
      }
    },
    {
      "cell_type": "markdown",
      "source": [
        "# **1.0 Functions and More Complex Stored Procedures in MySQL**"
      ],
      "metadata": {
        "id": "1y4ntzHmyrvc"
      }
    },
    {
      "cell_type": "markdown",
      "source": [
        "## 1.1 Functions vs Procedures"
      ],
      "metadata": {
        "id": "QY_C_qaGy3PX"
      }
    },
    {
      "cell_type": "markdown",
      "source": [
        "| Aspect              | Functions                                    | Procedures                                       |\n",
        "|---------------------|----------------------------------------------|--------------------------------------------------|\n",
        "| Return Value        | Must return a value.                         | May or may not return a value.                   |\n",
        "| Usage               | Typically used for computations and data manipulation. | Used for executing a series of actions or operations. |\n",
        "| Call               | Invoked by their name and parameters.        | Invoked by their name and parameters.           |\n",
        "| Parameters          | Can have input parameters and optionally output parameters. | Can have input and output parameters.            |\n",
        "| State               | Generally, functions maintain a stateless behavior. | Procedures can have stateful behavior.           |\n",
        "| Reusability         | Highly reusable as they can be called from multiple places. | Not as reusable since they often perform specific tasks. |\n",
        "| Invocation          | Can be used within expressions and assignments. | Cannot be used within expressions.              |\n",
        "| Return Statement    | Must have a return statement specifying the return value. | No explicit return statement is required.        |\n",
        "| Example (PL/SQL)    | ```sql CREATE FUNCTION calculate_area(length NUMBER, width NUMBER) RETURN NUMBER IS area NUMBER; BEGIN area := length * width; RETURN area; END;``` | ```sql CREATE PROCEDURE insert_record(name VARCHAR2, age NUMBER) IS BEGIN INSERT INTO employee_table(name, age) VALUES(name, age); END;``` |\n"
      ],
      "metadata": {
        "id": "3JjvsyGA0bqr"
      }
    },
    {
      "cell_type": "markdown",
      "source": [
        "## 1.2 Declaring Variables"
      ],
      "metadata": {
        "id": "TIxe5Zpl0fW6"
      }
    },
    {
      "cell_type": "markdown",
      "source": [
        "Variables used to pass values between SQL statements or between a procedure and a SQL statement."
      ],
      "metadata": {
        "id": "MEM2BpPu-PYA"
      }
    },
    {
      "cell_type": "markdown",
      "source": [
        "Can create\n",
        "- Inside or outside of a stored procedure\n",
        "- Inside or outside of a SELECT statement."
      ],
      "metadata": {
        "id": "UDjXJIyb-ZMq"
      }
    },
    {
      "cell_type": "markdown",
      "source": [
        "### SET - Outside the stored procedure"
      ],
      "metadata": {
        "id": "jszHSkll-tBi"
      }
    },
    {
      "cell_type": "markdown",
      "source": [
        "Syntax: ```SET @variable_name = value;```"
      ],
      "metadata": {
        "id": "_aq-bgQ5-4F7"
      }
    },
    {
      "cell_type": "markdown",
      "source": [
        "Example : <br>\n",
        "```sql\n",
        "SET @order_id = 3;\n",
        "SELECT * FROM Orders WHERE Order_ID = @order_id\n",
        "```"
      ],
      "metadata": {
        "id": "1WqG_9Mc_BFf"
      }
    },
    {
      "cell_type": "markdown",
      "source": [
        "### DECLARE - Inside the stored procedure"
      ],
      "metadata": {
        "id": "xAv3SKNv_XPD"
      }
    },
    {
      "cell_type": "markdown",
      "source": [
        "Syntax: ```DECLARE variable_name DATATYPE DEFAULT VALUE;```"
      ],
      "metadata": {
        "id": "yOmAShZo_gvO"
      }
    },
    {
      "cell_type": "markdown",
      "source": [
        "Example <br>\n",
        "```sql\n",
        "DECLARE minimum_order_cost DECIMAL(5,2) DEFAULT 0;\n",
        "```"
      ],
      "metadata": {
        "id": "hIqDmaIJ_rz8"
      }
    },
    {
      "cell_type": "markdown",
      "source": [
        "### ASSIGNMENT Operator - Inside SELECT Command"
      ],
      "metadata": {
        "id": "WcUZ6hzi_9ZR"
      }
    },
    {
      "cell_type": "markdown",
      "source": [
        "Syntax :  ```SELECT @variable_name := value```"
      ],
      "metadata": {
        "id": "spiXsZWxACKe"
      }
    },
    {
      "cell_type": "markdown",
      "source": [
        "Example:<br>\n",
        "```sql\n",
        "SELECT @max_order := MAX(Cost) FROM Orders;\n",
        "SELECT @max_order;\n",
        "```"
      ],
      "metadata": {
        "id": "TrjI7-iQAJZr"
      }
    },
    {
      "cell_type": "markdown",
      "source": [
        "### Variable Inside SELECT Command"
      ],
      "metadata": {
        "id": "TKoHTmb4Ab-8"
      }
    },
    {
      "cell_type": "markdown",
      "source": [
        "Syntax : ``` SELECT function() INTO variable_name FROM table_name;```"
      ],
      "metadata": {
        "id": "LsQCybscAfWp"
      }
    },
    {
      "cell_type": "markdown",
      "source": [
        "Example:<br>\n",
        "```sql\n",
        "SELECT AVG(Cost) INTO @average_cost FROM Orders;\n",
        "```"
      ],
      "metadata": {
        "id": "VqyTtQqlAmpJ"
      }
    },
    {
      "cell_type": "markdown",
      "source": [
        "## 1.3 Parameters"
      ],
      "metadata": {
        "id": "oAVOnK0aCjz5"
      }
    },
    {
      "cell_type": "markdown",
      "source": [
        "Parameters pass arguments or values to a function or procedure from outside."
      ],
      "metadata": {
        "id": "-NUV6RSJCsO6"
      }
    },
    {
      "cell_type": "markdown",
      "source": [
        "- In parameters\n",
        "- out parameters\n",
        "- in out parameters"
      ],
      "metadata": {
        "id": "7vQJf4lpC4Wv"
      }
    },
    {
      "cell_type": "markdown",
      "source": [
        "### IN parameter"
      ],
      "metadata": {
        "id": "HBbWIbPWC_wb"
      }
    },
    {
      "cell_type": "markdown",
      "source": [
        "Syntax: ```CREATE PROCEDURE procedure_name(IN logic(value1, value2)) SELECT logic;```"
      ],
      "metadata": {
        "id": "wZbCZ87QDBrN"
      }
    },
    {
      "cell_type": "markdown",
      "source": [
        "```sql\n",
        "CREATE PROCEDURE CalculateTax(IN Salary DECIMAL(10,2)) SELECT Salary *0.2 AS TAX;\n",
        "CALL CalculateTax(10000);\n",
        "```"
      ],
      "metadata": {
        "id": "U3tLnG0VDM-8"
      }
    },
    {
      "cell_type": "markdown",
      "source": [
        "### OUT parameter"
      ],
      "metadata": {
        "id": "htOuRbvyDptR"
      }
    },
    {
      "cell_type": "markdown",
      "source": [
        "Syntax:\n",
        "```sql\n",
        "CREATE PROCEDURE GetLowestCost(OUT LowestCost DECIMAL(6,2));\n",
        "SELECT MIN(Cost) INFO LowestCost FROM Orders;\n",
        "```"
      ],
      "metadata": {
        "id": "MmZT6aEPDui8"
      }
    },
    {
      "cell_type": "markdown",
      "source": [
        "### INOUT parameter"
      ],
      "metadata": {
        "id": "7VBR8yAGENKg"
      }
    },
    {
      "cell_type": "markdown",
      "source": [
        "Syntax:\n",
        "```sql\n",
        "CREATE PROCEDURE SquareAnumber(INOUT aNumber INT)\n",
        "BEGIN\n",
        "  set aNumber = aNumber*aNumber;\n",
        "END\n",
        "```"
      ],
      "metadata": {
        "id": "NTh5c7pQEQlZ"
      }
    },
    {
      "cell_type": "markdown",
      "source": [
        "```sql\n",
        "SET @x_number = 5\n",
        "CALL SquareAnumber (@x_number);\n",
        "```"
      ],
      "metadata": {
        "id": "r9wV17WLEocF"
      }
    },
    {
      "cell_type": "code",
      "execution_count": null,
      "metadata": {
        "id": "flo2leI9yXLB"
      },
      "outputs": [],
      "source": []
    }
  ]
}