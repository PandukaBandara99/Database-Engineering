{
  "nbformat": 4,
  "nbformat_minor": 0,
  "metadata": {
    "colab": {
      "provenance": [],
      "toc_visible": true,
      "include_colab_link": true
    },
    "kernelspec": {
      "name": "python3",
      "display_name": "Python 3"
    },
    "language_info": {
      "name": "python"
    }
  },
  "cells": [
    {
      "cell_type": "markdown",
      "metadata": {
        "id": "view-in-github",
        "colab_type": "text"
      },
      "source": [
        "<a href=\"https://colab.research.google.com/github/PandukaBandara99/Database-Engineering/blob/main/2%20Version%20Control.ipynb\" target=\"_parent\"><img src=\"https://colab.research.google.com/assets/colab-badge.svg\" alt=\"Open In Colab\"/></a>"
      ]
    },
    {
      "cell_type": "markdown",
      "source": [
        "Mahela Panduka Bandara ; <br> UG @ Dpt. of Electronic & Electrical Engineering ;<br> University of Peradeniya ;<br> 2023/06 <br><br> Email : e19039@end.pdn.ac.lk <br> LinkedIN : https://www.linkedin.com/in/pandukabandara/"
      ],
      "metadata": {
        "id": "a9rMxq_lLwCp"
      }
    },
    {
      "cell_type": "markdown",
      "source": [
        "References : \n",
        "1. "
      ],
      "metadata": {
        "id": "2aRwiwD6L2FT"
      }
    },
    {
      "cell_type": "markdown",
      "source": [
        "# 2.0 Version Control"
      ],
      "metadata": {
        "id": "dAVb_GNAL8T5"
      }
    },
    {
      "cell_type": "markdown",
      "source": [
        "## 2.1 Introduction"
      ],
      "metadata": {
        "id": "OKr7rNxvL_E5"
      }
    },
    {
      "cell_type": "markdown",
      "source": [
        "Version control is a system that allows to manage changes to files, documents, or any other type of content over time.\n",
        "\n",
        "In version control, a repository is used to store all the files and their respective versions. It keeps track of every modification made to the files, allowing to view and compare different versions, revert to previous states, and track who made the changes and when. This is particularly useful when multiple people are collaborating on a project, as it helps to avoid conflicts and provides a way to merge changes made by different individuals.\n",
        "\n",
        "Version control systems typically provide features such as:\n",
        "\n",
        "> 1. **Versioning:** Each time a change is made to a file, a new version is created, preserving the previous version.\n",
        ">\n",
        "> 2. **Branching and merging:** Version control allows for the creation of branches, which are independent lines of development. \n",
        "> \n",
        "> 3. **Conflict resolution:** When multiple people are working on the same file simultaneously, conflicts may arise if their changes overlap. Version control systems provide mechanisms to resolve such conflicts by highlighting conflicting sections and enabling users to manually reconcile the differences.\n",
        ">\n",
        "> 4. **History and annotations:** Version control systems maintain a complete history of changes, allowing you to see who made a specific change, when it was made, and why.\n",
        ">\n",
        "> 5. **Collaboration and access control:** Version control systems enable collaboration among team members by providing mechanisms for sharing and updating files. \n"
      ],
      "metadata": {
        "id": "u4LDpz5fMUZE"
      }
    },
    {
      "cell_type": "markdown",
      "source": [
        "## 2.2 Types of Version Control systems"
      ],
      "metadata": {
        "id": "l7Fsp5q7M0tV"
      }
    },
    {
      "cell_type": "markdown",
      "source": [
        "There are primarily two types of version control systems: centralized version control systems (CVCS) and distributed version control systems (DVCS). \n",
        "\n",
        "> 1. **Centralized Version Control Systems (CVCS):**\n",
        ">   In a CVCS, there is a central server that stores the repository, and users check out files from this central location. Changes made by different users are committed back to the central server. \n",
        "> Some examples of CVCS are:\n",
        ">     **Subversion (SVN):** SVN is a widely used CVCS that tracks changes to files and directories over time. It uses a centralized repository and allows users to check out files, make changes, and commit them back to the server.\n",
        ">\n",
        ">    **Perforce:** Perforce is a commercial CVCS commonly used in game development and other large-scale projects. It offers features like atomic commits and fine-grained access control.\n",
        "\n",
        "> 2. **Distributed Version Control Systems (DVCS):**\n",
        ">   DVCSs, unlike CVCSs, do not rely on a central server. Instead, each user has a complete copy of the repository, including the entire history. This allows for greater flexibility and autonomy for individual users. Some examples of DVCS are:\n",
        ">\n",
        ">    **Git:** Git is the most widely used DVCS. It provides a distributed and decentralized approach to version control. Each user has a complete local copy of the repository, allowing them to work offline and independently. Git offers powerful branching and merging capabilities and has become the de facto standard for version control in many software development projects.\n",
        ">\n",
        ">    **Mercurial:** Mercurial is another DVCS that is known for its simplicity and ease of use. It offers similar features to Git, including distributed development, branching, and merging. Mercurial focuses on providing a clean and intuitive user interface.\n",
        ">\n",
        ">    **Bazaar:** Bazaar is a DVCS developed by Canonical, the company behind Ubuntu. It emphasizes simplicity and ease of use, making it suitable for both small and large projects. Bazaar supports multiple workflows, including centralized and distributed models.\n"
      ],
      "metadata": {
        "id": "WDR8Ur-3NXZ1"
      }
    },
    {
      "cell_type": "markdown",
      "source": [
        "## 2.3 Common Development Practices"
      ],
      "metadata": {
        "id": "OYezU3WuORGI"
      }
    },
    {
      "cell_type": "markdown",
      "source": [
        "Continuous Delivery (CD), Continuous Deployment (CDep), and Continuous Integration (CI) are commonly used in development to improve the efficiency and quality of project delivery.\n"
      ],
      "metadata": {
        "id": "swA406ACOWNU"
      }
    },
    {
      "cell_type": "markdown",
      "source": [
        "### 2.3.1 Continuous Integration (CI)"
      ],
      "metadata": {
        "id": "u3njp3DcOeYl"
      }
    },
    {
      "cell_type": "markdown",
      "source": [
        "CI is a development practice in which developers regularly integrate their code changes into a shared repository. The primary goal of CI is to detect integration issues early by automating the process of building, testing, and validating code changes as they are committed. CI involves the following key steps:\n",
        "\n",
        " >  a. **Code Integration:** Developers frequently merge their code changes into a central repository or a shared branch.\n",
        ">\n",
        ">   b. **Automated Build:** Upon a code commit, an automated build process is triggered to compile the code and generate an executable or deployable artifact.\n",
        ">\n",
        ">   c. **Automated Testing:** Automated tests, including unit tests and integration tests, are executed to ensure that the integrated code functions correctly and does not introduce regressions.\n",
        ">\n",
        ">   d. **Code Analysis:** Static code analysis tools may be used to check code quality, adherence to coding standards, and identify potential issues.\n",
        "\n",
        "   CI helps identify and resolve conflicts, errors, and bugs early in the development cycle, leading to reduced integration problems and faster feedback loops for developers.\n"
      ],
      "metadata": {
        "id": "vC2ZctJuOl0M"
      }
    },
    {
      "cell_type": "markdown",
      "source": [
        "### 2.3.2 Continuous Delivery (CD)"
      ],
      "metadata": {
        "id": "qnWeKuZYO0Qn"
      }
    },
    {
      "cell_type": "markdown",
      "source": [
        "CD is an extension of CI that focuses on automating the entire software release process, including testing, deployment, and delivery. CD ensures that software is always in a deployable state, allowing teams to release it to production quickly and reliably. Key aspects of CD include:\n",
        "\n",
        ">   a. **Automated Testing:** Rigorous automated testing, including functional, performance, and security testing, is performed as part of the deployment pipeline.\n",
        ">\n",
        ">   b. **Deployment Automation:** CD involves automating the process of packaging and deploying applications to various environments, such as staging and production, to ensure consistency and eliminate manual errors.\n",
        ">\n",
        ">   c. **Configuration Management:** CD emphasizes managing application configurations in a centralized manner, allowing easy and consistent deployment across different environments.\n",
        ">\n",
        ">   d. **Continuous Feedback:** CD provides timely feedback on the quality and readiness of software, enabling teams to make data-driven decisions on whether to release the software or address any remaining issues.\n",
        ">\n",
        "   CD enables frequent and reliable software releases, allowing businesses to deliver value to their customers more rapidly.\n"
      ],
      "metadata": {
        "id": "tYw9hqAqO6CY"
      }
    },
    {
      "cell_type": "markdown",
      "source": [
        "### 2.3.3 Continuous Deployment (CDep)"
      ],
      "metadata": {
        "id": "9H74XjVcPK2P"
      }
    },
    {
      "cell_type": "markdown",
      "source": [
        "> CDep takes the principles of CI and CD further by automatically deploying every validated change to production. In continuous deployment, the entire release process, including production deployment, is automated, removing manual interventions or approval steps. This approach requires a high degree of confidence in the automated testing and deployment processes, as every change is immediately rolled out to the production environment.\n",
        "> \n",
        "> Continuous deployment is commonly practiced by organizations that are highly focused on agility, responsiveness, and minimizing lead time between code changes and their availability to end-users. It enables rapid iteration and feedback cycles, but careful monitoring and rollback mechanisms are essential to handle any unexpected issues that may arise in production."
      ],
      "metadata": {
        "id": "z_kQjw4HPQAA"
      }
    },
    {
      "cell_type": "markdown",
      "source": [
        "## 2.4 UNIX Commands"
      ],
      "metadata": {
        "id": "pUJU3XzeUg_q"
      }
    },
    {
      "cell_type": "markdown",
      "source": [
        "### 2.4.1 Commonly used Unix commands"
      ],
      "metadata": {
        "id": "YkPJQdCCVXIC"
      }
    },
    {
      "cell_type": "markdown",
      "source": [
        "\n",
        "| Command      | Explanation                                                  | Example(s)                                                   |\n",
        "| ------------ | ------------------------------------------------------------ | ------------------------------------------------------------ |\n",
        "| ls           | Lists files and directories in the current directory.        | `ls` - Lists files and directories in the current directory.<br>`ls -l` - Displays detailed information including permissions and ownership.<br>`ls -a` - Shows hidden files as well. |\n",
        "| cd           | Changes the current directory.                               | `cd directory_name` - Changes to the specified directory.<br>`cd ..` - Moves up to the parent directory. |\n",
        "| pwd          | Prints the current working directory.                        | `pwd` - Displays the full path of the current directory.      |\n",
        "| mkdir        | Creates a new directory.                                     | `mkdir directory_name` - Creates a directory with the specified name. |\n",
        "| rm           | Removes files and directories.                               | `rm file_name` - Deletes the specified file.<br>`rm -r directory_name` - Deletes the specified directory and its contents recursively. |\n",
        "| cp           | Copies files and directories.                                | `cp file_name destination` - Copies the specified file to the destination.<br>`cp -r directory_name destination` - Copies the specified directory and its contents recursively to the destination. |\n",
        "| mv           | Moves or renames files and directories.                       | `mv file_name new_name` - Renames the specified file.<br>`mv file_name directory` - Moves the specified file to the directory.<br>`mv directory_name new_directory_name` - Renames the specified directory. |\n",
        "| cat          | Concatenates and displays the contents of files.              | `cat file_name` - Displays the contents of the specified file. |\n",
        "| less         | Displays the contents of files one page at a time.            | `less file_name` - Shows the contents of the specified file, allowing scrolling through pages. |\n",
        "| grep         | Searches for a specified pattern in files.                    | `grep pattern file_name` - Searches for the pattern in the specified file and displays matching lines. |\n",
        "| chmod        | Changes the permissions of files and directories.             | `chmod permissions file_name` - Changes the permissions of the specified file.<br>`chmod permissions directory_name` - Changes the permissions of the specified directory.<br>Permissions can be specified in octal or symbolic notation. |\n",
        "| chown        | Changes the ownership of files and directories.               | `chown user:group file_name` - Changes the ownership of the specified file.<br>`chown -R user:group directory_name` - Changes the ownership of the specified directory and its contents recursively. |\n",
        "| tar          | Archives multiple files into a single file.                   | `tar -cvf archive.tar file1 file2` - Creates a tar archive with the specified files.<br>`tar -xvf archive.tar` - Extracts files from the specified tar archive. |\n",
        "| ssh          | Connects to a remote server using Secure Shell (SSH).         | `ssh user@hostname` - Initiates an SSH connection to the specified hostname with the given username. |\n",
        "| scp          | Securely copies files between local and remote systems.        | `scp file_name user@hostname:destination` - Copies the specified file to the destination on the remote server.<br>`scp user@hostname:file_name destination` - Copies the specified file from the remote server to the local destination. |\n",
        "| man          | Displays the manual pages for commands.                       | `man command_name` - Shows the manual pages for the specified command, providing detailed information and usage examples. |\n",
        "| history      | Lists the command history.                                    | `history`"
      ],
      "metadata": {
        "id": "0ePTaU7iVBeJ"
      }
    }
  ]
}