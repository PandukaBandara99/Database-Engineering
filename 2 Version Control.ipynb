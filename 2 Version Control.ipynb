{
  "nbformat": 4,
  "nbformat_minor": 0,
  "metadata": {
    "colab": {
      "provenance": [],
      "toc_visible": true,
      "include_colab_link": true
    },
    "kernelspec": {
      "name": "python3",
      "display_name": "Python 3"
    },
    "language_info": {
      "name": "python"
    }
  },
  "cells": [
    {
      "cell_type": "markdown",
      "metadata": {
        "id": "view-in-github",
        "colab_type": "text"
      },
      "source": [
        "<a href=\"https://colab.research.google.com/github/PandukaBandara99/Database-Engineering/blob/main/2%20Version%20Control.ipynb\" target=\"_parent\"><img src=\"https://colab.research.google.com/assets/colab-badge.svg\" alt=\"Open In Colab\"/></a>"
      ]
    },
    {
      "cell_type": "markdown",
      "source": [
        "Mahela Panduka Bandara ; <br> UG @ Dpt. of Electronic & Electrical Engineering ;<br> University of Peradeniya ;<br> 2023/06 <br><br> Email : e19039@end.pdn.ac.lk <br> LinkedIN : https://www.linkedin.com/in/pandukabandara/"
      ],
      "metadata": {
        "id": "a9rMxq_lLwCp"
      }
    },
    {
      "cell_type": "markdown",
      "source": [
        "References : \n",
        "1. "
      ],
      "metadata": {
        "id": "2aRwiwD6L2FT"
      }
    },
    {
      "cell_type": "markdown",
      "source": [
        "# 2.0 Version Control"
      ],
      "metadata": {
        "id": "dAVb_GNAL8T5"
      }
    },
    {
      "cell_type": "markdown",
      "source": [
        "## 2.1 Introduction"
      ],
      "metadata": {
        "id": "OKr7rNxvL_E5"
      }
    },
    {
      "cell_type": "markdown",
      "source": [
        "Version control is a system that allows to manage changes to files, documents, or any other type of content over time.\n",
        "\n",
        "In version control, a repository is used to store all the files and their respective versions. It keeps track of every modification made to the files, allowing to view and compare different versions, revert to previous states, and track who made the changes and when. This is particularly useful when multiple people are collaborating on a project, as it helps to avoid conflicts and provides a way to merge changes made by different individuals.\n",
        "\n",
        "Version control systems typically provide features such as:\n",
        "\n",
        "> 1. **Versioning:** Each time a change is made to a file, a new version is created, preserving the previous version.\n",
        ">\n",
        "> 2. **Branching and merging:** Version control allows for the creation of branches, which are independent lines of development. \n",
        "> \n",
        "> 3. **Conflict resolution:** When multiple people are working on the same file simultaneously, conflicts may arise if their changes overlap. Version control systems provide mechanisms to resolve such conflicts by highlighting conflicting sections and enabling users to manually reconcile the differences.\n",
        ">\n",
        "> 4. **History and annotations:** Version control systems maintain a complete history of changes, allowing you to see who made a specific change, when it was made, and why.\n",
        ">\n",
        "> 5. **Collaboration and access control:** Version control systems enable collaboration among team members by providing mechanisms for sharing and updating files. \n"
      ],
      "metadata": {
        "id": "u4LDpz5fMUZE"
      }
    },
    {
      "cell_type": "markdown",
      "source": [
        "## 2.2 Types of Version Control systems"
      ],
      "metadata": {
        "id": "l7Fsp5q7M0tV"
      }
    },
    {
      "cell_type": "markdown",
      "source": [
        "There are primarily two types of version control systems: centralized version control systems (CVCS) and distributed version control systems (DVCS). \n",
        "\n",
        "> 1. **Centralized Version Control Systems (CVCS):**\n",
        ">   In a CVCS, there is a central server that stores the repository, and users check out files from this central location. Changes made by different users are committed back to the central server. \n",
        "> Some examples of CVCS are:\n",
        ">     **Subversion (SVN):** SVN is a widely used CVCS that tracks changes to files and directories over time. It uses a centralized repository and allows users to check out files, make changes, and commit them back to the server.\n",
        ">\n",
        ">    **Perforce:** Perforce is a commercial CVCS commonly used in game development and other large-scale projects. It offers features like atomic commits and fine-grained access control.\n",
        "\n",
        "> 2. **Distributed Version Control Systems (DVCS):**\n",
        ">   DVCSs, unlike CVCSs, do not rely on a central server. Instead, each user has a complete copy of the repository, including the entire history. This allows for greater flexibility and autonomy for individual users. Some examples of DVCS are:\n",
        ">\n",
        ">    **Git:** Git is the most widely used DVCS. It provides a distributed and decentralized approach to version control. Each user has a complete local copy of the repository, allowing them to work offline and independently. Git offers powerful branching and merging capabilities and has become the de facto standard for version control in many software development projects.\n",
        ">\n",
        ">    **Mercurial:** Mercurial is another DVCS that is known for its simplicity and ease of use. It offers similar features to Git, including distributed development, branching, and merging. Mercurial focuses on providing a clean and intuitive user interface.\n",
        ">\n",
        ">    **Bazaar:** Bazaar is a DVCS developed by Canonical, the company behind Ubuntu. It emphasizes simplicity and ease of use, making it suitable for both small and large projects. Bazaar supports multiple workflows, including centralized and distributed models.\n"
      ],
      "metadata": {
        "id": "WDR8Ur-3NXZ1"
      }
    },
    {
      "cell_type": "markdown",
      "source": [
        "## 2.3 Common Development Practices"
      ],
      "metadata": {
        "id": "OYezU3WuORGI"
      }
    },
    {
      "cell_type": "markdown",
      "source": [
        "Continuous Delivery (CD), Continuous Deployment (CDep), and Continuous Integration (CI) are commonly used in development to improve the efficiency and quality of project delivery.\n"
      ],
      "metadata": {
        "id": "swA406ACOWNU"
      }
    },
    {
      "cell_type": "markdown",
      "source": [
        "### 2.3.1 Continuous Integration (CI)"
      ],
      "metadata": {
        "id": "u3njp3DcOeYl"
      }
    },
    {
      "cell_type": "markdown",
      "source": [
        "CI is a development practice in which developers regularly integrate their code changes into a shared repository. The primary goal of CI is to detect integration issues early by automating the process of building, testing, and validating code changes as they are committed. CI involves the following key steps:\n",
        "\n",
        " >  a. **Code Integration:** Developers frequently merge their code changes into a central repository or a shared branch.\n",
        ">\n",
        ">   b. **Automated Build:** Upon a code commit, an automated build process is triggered to compile the code and generate an executable or deployable artifact.\n",
        ">\n",
        ">   c. **Automated Testing:** Automated tests, including unit tests and integration tests, are executed to ensure that the integrated code functions correctly and does not introduce regressions.\n",
        ">\n",
        ">   d. **Code Analysis:** Static code analysis tools may be used to check code quality, adherence to coding standards, and identify potential issues.\n",
        "\n",
        "   CI helps identify and resolve conflicts, errors, and bugs early in the development cycle, leading to reduced integration problems and faster feedback loops for developers.\n"
      ],
      "metadata": {
        "id": "vC2ZctJuOl0M"
      }
    },
    {
      "cell_type": "markdown",
      "source": [
        "### 2.3.2 Continuous Delivery (CD)"
      ],
      "metadata": {
        "id": "qnWeKuZYO0Qn"
      }
    },
    {
      "cell_type": "markdown",
      "source": [
        "CD is an extension of CI that focuses on automating the entire software release process, including testing, deployment, and delivery. CD ensures that software is always in a deployable state, allowing teams to release it to production quickly and reliably. Key aspects of CD include:\n",
        "\n",
        ">   a. **Automated Testing:** Rigorous automated testing, including functional, performance, and security testing, is performed as part of the deployment pipeline.\n",
        ">\n",
        ">   b. **Deployment Automation:** CD involves automating the process of packaging and deploying applications to various environments, such as staging and production, to ensure consistency and eliminate manual errors.\n",
        ">\n",
        ">   c. **Configuration Management:** CD emphasizes managing application configurations in a centralized manner, allowing easy and consistent deployment across different environments.\n",
        ">\n",
        ">   d. **Continuous Feedback:** CD provides timely feedback on the quality and readiness of software, enabling teams to make data-driven decisions on whether to release the software or address any remaining issues.\n",
        ">\n",
        "   CD enables frequent and reliable software releases, allowing businesses to deliver value to their customers more rapidly.\n"
      ],
      "metadata": {
        "id": "tYw9hqAqO6CY"
      }
    },
    {
      "cell_type": "markdown",
      "source": [
        "### 2.3.3 Continuous Deployment (CDep)"
      ],
      "metadata": {
        "id": "9H74XjVcPK2P"
      }
    },
    {
      "cell_type": "markdown",
      "source": [
        "> CDep takes the principles of CI and CD further by automatically deploying every validated change to production. In continuous deployment, the entire release process, including production deployment, is automated, removing manual interventions or approval steps. This approach requires a high degree of confidence in the automated testing and deployment processes, as every change is immediately rolled out to the production environment.\n",
        "> \n",
        "> Continuous deployment is commonly practiced by organizations that are highly focused on agility, responsiveness, and minimizing lead time between code changes and their availability to end-users. It enables rapid iteration and feedback cycles, but careful monitoring and rollback mechanisms are essential to handle any unexpected issues that may arise in production."
      ],
      "metadata": {
        "id": "z_kQjw4HPQAA"
      }
    },
    {
      "cell_type": "markdown",
      "source": [
        "## 2.4 UNIX Commands"
      ],
      "metadata": {
        "id": "pUJU3XzeUg_q"
      }
    },
    {
      "cell_type": "markdown",
      "source": [
        "### 2.4.1 Commonly used Unix commands"
      ],
      "metadata": {
        "id": "YkPJQdCCVXIC"
      }
    },
    {
      "cell_type": "markdown",
      "source": [
        "| Command      | Explanation                                                  | Example(s)                                                   |\n",
        "| ------------ | ------------------------------------------------------------ | ------------------------------------------------------------ |\n",
        "| ls           | Lists files and directories in the current directory.        | `ls` - Lists files and directories in the current directory.<br>`ls -l` - Displays detailed information including permissions and ownership.<br>`ls -a` - Shows hidden files as well. |\n",
        "| cd           | Changes the current directory.                               | `cd directory_name` - Changes to the specified directory.<br>`cd ..` - Moves up to the parent directory. |\n",
        "| pwd          | Prints the current working directory.                        | `pwd` - Displays the full path of the current directory.      |\n",
        "| mkdir        | Creates a new directory.                                     | `mkdir directory_name` - Creates a directory with the specified name. |\n",
        "| rm           | Removes files and directories.                               | `rm file_name` - Deletes the specified file.<br>`rm -r directory_name` - Deletes the specified directory and its contents recursively. |\n",
        "| cp           | Copies files and directories.                                | `cp file_name destination` - Copies the specified file to the destination.<br>`cp -r directory_name destination` - Copies the specified directory and its contents recursively to the destination. |\n",
        "| mv           | Moves or renames files and directories.                       | `mv file_name new_name` - Renames the specified file.<br>`mv file_name directory` - Moves the specified file to the directory.<br>`mv directory_name new_directory_name` - Renames the specified directory. |\n",
        "| cat          | Concatenates and displays the contents of files.              | `cat file_name` - Displays the contents of the specified file. |\n",
        "| less         | Displays the contents of files one page at a time.            | `less file_name` - Shows the contents of the specified file, allowing scrolling through pages. |\n",
        "| grep         | Searches for a specified pattern in files.                    | `grep pattern file_name` - Searches for the pattern in the specified file and displays matching lines. |\n",
        "| chmod        | Changes the permissions of files and directories.             | `chmod permissions file_name` - Changes the permissions of the specified file.<br>`chmod permissions directory_name` - Changes the permissions of the specified directory.<br>Permissions can be specified in octal or symbolic notation. |\n",
        "| chown        | Changes the ownership of files and directories.               | `chown user:group file_name` - Changes the ownership of the specified file.<br>`chown -R user:group directory_name` - Changes the ownership of the specified directory and its contents recursively. |\n",
        "| tar          | Archives multiple files into a single file.                   | `tar -cvf archive.tar file1 file2` - Creates a tar archive with the specified files.<br>`tar -xvf archive.tar` - Extracts files from the specified tar archive. |\n",
        "| ssh          | Connects to a remote server using Secure Shell (SSH).         | `ssh user@hostname` - Initiates an SSH connection to the specified hostname with the given username. |\n",
        "| scp          | Securely copies files between local and remote systems.        | `scp file_name user@hostname:destination` - Copies the specified file to the destination on the remote server.<br>`scp user@hostname:file_name destination` - Copies the specified file from the remote server to the local destination. |\n",
        "| man          | Displays the manual pages for commands.                       | `man command_name` - Shows the manual pages for the specified command, providing detailed information and usage examples. |\n",
        "| history      | Lists the command history.                                    | `history` -  Displays the list of previously executed commands. |\n",
        "| ps           | Lists the currently running processes.                        | `ps` - Shows a snapshot of the active processes.<br>`ps aux` - Provides a detailed list of all processes running on the system. |\n",
        "| top          | Displays real-time information about processes and system resources. | `top` - Shows a dynamic view of system processes and resource usage. |\n",
        "| df           | Displays disk space usage.                                   | `df` - Shows the disk space usage of all mounted file systems.<br>`df -h` - Displays the usage in a human-readable format. |\n",
        "| du           | Shows the disk usage of files and directories.                | `du file_name` - Displays the disk usage of the specified file.<br>`du -sh directory_name` - Shows the total size of the specified directory in a human-readable format. |\n",
        "| touch        | Creates an empty file or updates the timestamp of an existing file. | `touch file_name` - Creates an empty file with the specified name<br>`touch -a file_name` - Updates the access timestamp of the file.<br>`touch -m file_name` - Updates the modification timestamp of the file. |\n"
      ],
      "metadata": {
        "id": "0ePTaU7iVBeJ"
      }
    },
    {
      "cell_type": "markdown",
      "source": [
        "### 2.4.2 Pipes"
      ],
      "metadata": {
        "id": "BuKgkeEXpHQd"
      }
    },
    {
      "cell_type": "markdown",
      "source": [
        "Also known as \"vertical bars\" or \"pipe symbols\" (|), are a powerful feature in command-line interfaces and shell scripting. They allow you to connect the output of one command as the input to another command, creating a chain of commands that work together to perform complex tasks efficiently. This concept is known as \"piping\" or \"pipeline.\"\n",
        "\n",
        "> **1. Basic Usage:**\n",
        "> Pipes are used to redirect the output of one command to the input of another > command. The general syntax is:\n",
        "> ```\n",
        "> command1 | command2\n",
        "> ```\n",
        "> In this example, the output of `command1` is passed as input to `command2`. <br>\n",
        ">\n",
        "> **Example:** <br>\n",
        "> To list all the files in a directory and then search for a specific term within those files. You can achieve this using pipes:\n",
        "> ```\n",
        "> ls | grep \"search_term\"\n",
        "> ```\n",
        "> Here, the `ls` command lists all the files in the current directory, and the output is passed to the `grep` command as input. The `grep` command then searches for the specified \"search_term\" within the file names.\n",
        "\n",
        "> **2. Chaining Multiple Commands:**\n",
        "> Each command in the chain processes the output from the previous command. For example:\n",
        "> ```\n",
        "> command1 | command2 | command3\n",
        "> ```\n",
        "> Here, the output of `command1` becomes the input for `command2`, and the output of `command2` becomes the input for `command3`.\n",
        ">\n",
        "> **Example:**\n",
        "> To  find all the lines in a text file that contain a specific word, sort them in alphabetical order, and then count the occurrences of each line. \n",
        "> ```\n",
        "> grep \"word\" file.txt | sort | uniq -c\n",
        "> ```\n",
        "> The `grep` command searches for lines containing \"word\" in the file.txt. The output is then sorted using the `sort` command. Finally, the `uniq -c` command counts the occurrences of each line.\n",
        "\n",
        "> **3. Combining Commands with Different Purposes:**\n",
        "Pipes allow to combine commands with different purposes to achieve powerful results. For instance:\n",
        "> ```\n",
        "> command1 | command2 | command3 | command4\n",
        "> ```\n",
        ">\n",
        "> **Example:**\n",
        "> To list all the running processes, filter out the ones related to a specific program, sort them by memory usage, and display the top five processes. \n",
        "> ```\n",
        "> ps aux | grep \"program_name\" | sort -rnk 4 | head -n 5\n",
        "> ```\n",
        "> In this example, the `ps aux` command lists all the running processes, which are then filtered by `grep` to select only those related to \"program_name.\" The `sort -rnk 4` command sorts the filtered processes by the fourth column (memory usage) in reverse numerical order. Finally, the `head -n 5` command displays the top five processes.\n"
      ],
      "metadata": {
        "id": "f6MThT_spLE4"
      }
    },
    {
      "cell_type": "markdown",
      "source": [
        "### 2.4.3 Redirection"
      ],
      "metadata": {
        "id": "wzk3WX6RrX0W"
      }
    },
    {
      "cell_type": "markdown",
      "source": [
        "Allows to control the input and output of commands. \n",
        "\n",
        "**1. Standard Input (stdin) Redirection:**\n",
        "Standard input is typically provided through the keyboard, but you can redirect it from a file or another command. The syntax for redirecting standard input is:\n",
        "> ```\n",
        "> command < input_file\n",
        "> ```\n",
        "> In this example, the input for `command` is read from `input_file` instead of the keyboard.\n",
        "\n",
        "**Example:**\n",
        ">```\n",
        ">sort < data.txt\n",
        "> ```\n",
        "> This command reads the contents of `data.txt` as the input for the `sort` command, which then sorts the lines in the file.\n",
        "\n",
        "**2. Standard Output (stdout) Redirection:**\n",
        "Standard output is the default output stream, typically displayed on the terminal. Can redirect it to a file or another command. The syntax for redirecting standard output is:\n",
        "> ```\n",
        "> command > output_file\n",
        "> ```\n",
        "> In this example, the output of `command` is redirected to `output_file` instead of being displayed on the terminal.\n",
        "\n",
        " **Example:**\n",
        "> ```\n",
        "> ls > file_list.txt\n",
        "> ```\n",
        "> This command lists all the files in the current directory and saves the output to the `file_list.txt` file.\n",
        "\n",
        "**3. Appending to a File:**\n",
        "To append the output of a command to an existing file instead of overwriting it, you can use the `>>` redirection operator. The syntax is:\n",
        "> ```\n",
        "> command >> output_file\n",
        "> ```\n",
        "> This appends the output of `command` to `output_file` without modifying the existing content.\n",
        "\n",
        "**Example:**\n",
        "> ```\n",
        "> echo \"New data\" >> existing_file.txt\n",
        "> ```\n",
        "> This command appends the text \"New data\" to the `existing_file.txt` file without deleting its previous content.\n",
        "\n",
        "**4. Standard Error (stderr) Redirection:**\n",
        "Standard error is the stream used to display error messages. Can redirect it to a file or discard it if desired. The syntax for redirecting standard error is:\n",
        "> ```\n",
        "> command 2> error_file\n",
        "> ```\n",
        "> In this example, any error messages generated by `command` are redirected to `error_file` instead of being displayed on the terminal.\n",
        "\n",
        "**Example:**\n",
        "> ```\n",
        "> ls non_existent_directory 2> error_log.txt\n",
        "> ```\n",
        "> This command attempts to list the files in a non-existent directory, and any resulting error message is redirected to the `error_log.txt` file.\n",
        "\n",
        "**5. Redirecting Both Output and Error:**\n",
        "To redirect both standard output and standard error to different locations, you can use the following syntax:\n",
        "> ```\n",
        "> command > output_file 2> error_file\n",
        "> ```\n",
        "> This redirects the standard output of `command` to `output_file` and the standard error to `error_file`.\n",
        "\n",
        "**Example:**\n",
        "> ```\n",
        "> find . -name \"*.txt\" > files.txt 2> error_log.txt\n",
        "> ```\n",
        "> This command searches for all the .txt files in the current directory and its subdirectories. The list of matching files is redirected to `files.txt`, while any error messages are redirected to `error_log.txt`.\n"
      ],
      "metadata": {
        "id": "Eu-7oJqDrZ-p"
      }
    },
    {
      "cell_type": "markdown",
      "source": [
        "## 2.5 Bash"
      ],
      "metadata": {
        "id": "yP4lbFsNgU6T"
      }
    },
    {
      "cell_type": "markdown",
      "source": [
        "### 2.5.1 Introduction"
      ],
      "metadata": {
        "id": "hu5FTf6Hhv-B"
      }
    },
    {
      "cell_type": "markdown",
      "source": [
        "Bash, short for \"Bourne Again Shell,\" is a popular command-line interpreter and scripting language used primarily in Unix and Unix-like operating systems. It is the default shell for many Linux distributions and macOS. Bash provides a command-line interface (CLI) through which users can interact with their operating system, execute commands, and automate tasks using shell scripts."
      ],
      "metadata": {
        "id": "-M8Mi4Twh0Q0"
      }
    },
    {
      "cell_type": "markdown",
      "source": [
        "### 2.5.2 Creating and Executing Shell Scripts"
      ],
      "metadata": {
        "id": "Qx-FUtWaiP9s"
      }
    },
    {
      "cell_type": "markdown",
      "source": [
        "> 1. **Choose a Text Editor:**\n",
        ">   Select a text editor to write the shell script. Common choices include nano, vi, Emacs, or a graphical editor like Sublime Text or Visual Studio Code. Open the editor of your choice.\n",
        ">\n",
        "> 2. **Start with a Shebang:**\n",
        ">   Begin your script with a shebang (#!) followed by the path to the Bash interpreter. This tells the system which shell to use for executing the script. The shebang line typically looks like this:\n",
        ">   ```bash\n",
        ">   #!/bin/bash\n",
        ">   ```\n",
        ">\n",
        "> 3. **Write The Script:**\n",
        ">    Below the shebang line,  start writing your shell script. Bash scripts can contain a sequence of commands, control structures, variables, and other shell-specific syntax.\n",
        ">\n",
        ">   ```bash\n",
        ">   #!/bin/bash\n",
        ">   echo \"Hello, World!\"\n",
        ">   ```\n",
        ">\n",
        "> 4. **Save the Script:**\n",
        ">   Save the shell script with a .sh extension, such as `myscript.sh`. Choose a location where  have write permissions and can easily access the script.\n",
        ">\n",
        "> 5. **Make the Script Executable:**\n",
        ">   Before executing the script,  need to make it executable. Open a terminal and navigate to the directory where the script is saved. Use the `chmod` command to change the permissions of the script to allow execution:\n",
        ">   ```bash\n",
        ">   chmod +x myscript.sh\n",
        ">   ```\n",
        ">\n",
        ">6. **Execute the Script:**\n",
        ">  Once the script is made executable, run it by specifying its file path. In the terminal, navigate to the directory containing the script, and use the following command to execute it:\n",
        ">   ```bash\n",
        ">   ./myscript.sh\n",
        ">   ```\n",
        ">\n",
        ">   If the script is located in a different directory, need to specify the absolute or relative path to the script.\n",
        ">\n",
        "> 7. **Passing Arguments to the Script:**\n",
        ">   Shell scripts can accept arguments provided from the command line , can access these arguments within the script using special variables such as `$1`, `$2`, `$3`, and so on. \n",
        ">\n",
        ">   An example that takes a name as an argument and prints a greeting:\n",
        ">   ```bash\n",
        ">   #!/bin/bash\n",
        ">   echo \"Hello, $1!\"\n",
        ">   ```\n",
        ">\n",
        ">  Execute the script and pass an argument like this:\n",
        ">   ```bash\n",
        ">   ./myscript.sh John\n",
        ">   ```\n",
        ">\n",
        ">   This would output: \"Hello, John!\"\n",
        ">"
      ],
      "metadata": {
        "id": "ZgyhcXjvi4M1"
      }
    },
    {
      "cell_type": "markdown",
      "source": [],
      "metadata": {
        "id": "JfZeMb2_j0ir"
      }
    }
  ]
}