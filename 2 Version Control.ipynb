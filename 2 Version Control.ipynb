{
  "nbformat": 4,
  "nbformat_minor": 0,
  "metadata": {
    "colab": {
      "provenance": [],
      "toc_visible": true,
      "include_colab_link": true
    },
    "kernelspec": {
      "name": "python3",
      "display_name": "Python 3"
    },
    "language_info": {
      "name": "python"
    }
  },
  "cells": [
    {
      "cell_type": "markdown",
      "metadata": {
        "id": "view-in-github",
        "colab_type": "text"
      },
      "source": [
        "<a href=\"https://colab.research.google.com/github/PandukaBandara99/Database-Engineering/blob/main/2%20Version%20Control.ipynb\" target=\"_parent\"><img src=\"https://colab.research.google.com/assets/colab-badge.svg\" alt=\"Open In Colab\"/></a>"
      ]
    },
    {
      "cell_type": "markdown",
      "source": [
        "Mahela Panduka Bandara ; <br> UG @ Dpt. of Electronic & Electrical Engineering ;<br> University of Peradeniya ;<br> 2023/06 <br><br> Email : e19039@end.pdn.ac.lk <br> LinkedIN : https://www.linkedin.com/in/pandukabandara/"
      ],
      "metadata": {
        "id": "a9rMxq_lLwCp"
      }
    },
    {
      "cell_type": "markdown",
      "source": [
        "References : \n",
        "1. "
      ],
      "metadata": {
        "id": "2aRwiwD6L2FT"
      }
    },
    {
      "cell_type": "markdown",
      "source": [
        "# 2.0 Version Control"
      ],
      "metadata": {
        "id": "dAVb_GNAL8T5"
      }
    },
    {
      "cell_type": "markdown",
      "source": [
        "## 2.1 Introduction"
      ],
      "metadata": {
        "id": "OKr7rNxvL_E5"
      }
    },
    {
      "cell_type": "markdown",
      "source": [
        "Version control is a system that allows to manage changes to files, documents, or any other type of content over time.\n",
        "\n",
        "In version control, a repository is used to store all the files and their respective versions. It keeps track of every modification made to the files, allowing to view and compare different versions, revert to previous states, and track who made the changes and when. This is particularly useful when multiple people are collaborating on a project, as it helps to avoid conflicts and provides a way to merge changes made by different individuals.\n",
        "\n",
        "Version control systems typically provide features such as:\n",
        "\n",
        "> 1. **Versioning:** Each time a change is made to a file, a new version is created, preserving the previous version.\n",
        ">\n",
        "> 2. **Branching and merging:** Version control allows for the creation of branches, which are independent lines of development. \n",
        "> \n",
        "> 3. **Conflict resolution:** When multiple people are working on the same file simultaneously, conflicts may arise if their changes overlap. Version control systems provide mechanisms to resolve such conflicts by highlighting conflicting sections and enabling users to manually reconcile the differences.\n",
        ">\n",
        "> 4. **History and annotations:** Version control systems maintain a complete history of changes, allowing you to see who made a specific change, when it was made, and why.\n",
        ">\n",
        "> 5. **Collaboration and access control:** Version control systems enable collaboration among team members by providing mechanisms for sharing and updating files. \n"
      ],
      "metadata": {
        "id": "u4LDpz5fMUZE"
      }
    },
    {
      "cell_type": "markdown",
      "source": [
        "## 2.2 Types of Version Control systems"
      ],
      "metadata": {
        "id": "l7Fsp5q7M0tV"
      }
    },
    {
      "cell_type": "markdown",
      "source": [
        "There are primarily two types of version control systems: centralized version control systems (CVCS) and distributed version control systems (DVCS). \n",
        "\n",
        "> 1. **Centralized Version Control Systems (CVCS):**\n",
        ">   In a CVCS, there is a central server that stores the repository, and users check out files from this central location. Changes made by different users are committed back to the central server. \n",
        "> Some examples of CVCS are:\n",
        ">     **Subversion (SVN):** SVN is a widely used CVCS that tracks changes to files and directories over time. It uses a centralized repository and allows users to check out files, make changes, and commit them back to the server.\n",
        ">\n",
        ">    **Perforce:** Perforce is a commercial CVCS commonly used in game development and other large-scale projects. It offers features like atomic commits and fine-grained access control.\n",
        "\n",
        "> 2. **Distributed Version Control Systems (DVCS):**\n",
        ">   DVCSs, unlike CVCSs, do not rely on a central server. Instead, each user has a complete copy of the repository, including the entire history. This allows for greater flexibility and autonomy for individual users. Some examples of DVCS are:\n",
        ">\n",
        ">    **Git:** Git is the most widely used DVCS. It provides a distributed and decentralized approach to version control. Each user has a complete local copy of the repository, allowing them to work offline and independently. Git offers powerful branching and merging capabilities and has become the de facto standard for version control in many software development projects.\n",
        ">\n",
        ">    **Mercurial:** Mercurial is another DVCS that is known for its simplicity and ease of use. It offers similar features to Git, including distributed development, branching, and merging. Mercurial focuses on providing a clean and intuitive user interface.\n",
        ">\n",
        ">    **Bazaar:** Bazaar is a DVCS developed by Canonical, the company behind Ubuntu. It emphasizes simplicity and ease of use, making it suitable for both small and large projects. Bazaar supports multiple workflows, including centralized and distributed models.\n"
      ],
      "metadata": {
        "id": "WDR8Ur-3NXZ1"
      }
    }
  ]
}